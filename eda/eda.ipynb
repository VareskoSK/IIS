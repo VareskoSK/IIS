{
 "cells": [
  {
   "cell_type": "markdown",
   "metadata": {},
   "source": [
    "## Загрузка данных и знакомство с ними"
   ]
  },
  {
   "cell_type": "code",
   "execution_count": 79,
   "metadata": {},
   "outputs": [],
   "source": [
    "import matplotlib.pyplot as plt\n",
    "import plotly.express as px\n",
    "import seaborn as sns\n",
    "import numpy as np"
   ]
  },
  {
   "cell_type": "code",
   "execution_count": 80,
   "metadata": {},
   "outputs": [
    {
     "data": {
      "text/html": [
       "<div>\n",
       "<style scoped>\n",
       "    .dataframe tbody tr th:only-of-type {\n",
       "        vertical-align: middle;\n",
       "    }\n",
       "\n",
       "    .dataframe tbody tr th {\n",
       "        vertical-align: top;\n",
       "    }\n",
       "\n",
       "    .dataframe thead th {\n",
       "        text-align: right;\n",
       "    }\n",
       "</style>\n",
       "<table border=\"1\" class=\"dataframe\">\n",
       "  <thead>\n",
       "    <tr style=\"text-align: right;\">\n",
       "      <th></th>\n",
       "      <th>Car_Name</th>\n",
       "      <th>Year</th>\n",
       "      <th>Selling_Price</th>\n",
       "      <th>Present_Price</th>\n",
       "      <th>Driven_kms</th>\n",
       "      <th>Fuel_Type</th>\n",
       "      <th>Selling_type</th>\n",
       "      <th>Transmission</th>\n",
       "      <th>Owner</th>\n",
       "    </tr>\n",
       "  </thead>\n",
       "  <tbody>\n",
       "    <tr>\n",
       "      <th>0</th>\n",
       "      <td>ritz</td>\n",
       "      <td>2014</td>\n",
       "      <td>3.35</td>\n",
       "      <td>5.59</td>\n",
       "      <td>27000</td>\n",
       "      <td>Petrol</td>\n",
       "      <td>Dealer</td>\n",
       "      <td>Manual</td>\n",
       "      <td>0</td>\n",
       "    </tr>\n",
       "    <tr>\n",
       "      <th>1</th>\n",
       "      <td>sx4</td>\n",
       "      <td>2013</td>\n",
       "      <td>4.75</td>\n",
       "      <td>9.54</td>\n",
       "      <td>43000</td>\n",
       "      <td>Diesel</td>\n",
       "      <td>Dealer</td>\n",
       "      <td>Manual</td>\n",
       "      <td>0</td>\n",
       "    </tr>\n",
       "    <tr>\n",
       "      <th>2</th>\n",
       "      <td>ciaz</td>\n",
       "      <td>2017</td>\n",
       "      <td>7.25</td>\n",
       "      <td>9.85</td>\n",
       "      <td>6900</td>\n",
       "      <td>Petrol</td>\n",
       "      <td>Dealer</td>\n",
       "      <td>Manual</td>\n",
       "      <td>0</td>\n",
       "    </tr>\n",
       "    <tr>\n",
       "      <th>3</th>\n",
       "      <td>wagon r</td>\n",
       "      <td>2011</td>\n",
       "      <td>2.85</td>\n",
       "      <td>4.15</td>\n",
       "      <td>5200</td>\n",
       "      <td>Petrol</td>\n",
       "      <td>Dealer</td>\n",
       "      <td>Manual</td>\n",
       "      <td>0</td>\n",
       "    </tr>\n",
       "    <tr>\n",
       "      <th>4</th>\n",
       "      <td>swift</td>\n",
       "      <td>2014</td>\n",
       "      <td>4.60</td>\n",
       "      <td>6.87</td>\n",
       "      <td>42450</td>\n",
       "      <td>Diesel</td>\n",
       "      <td>Dealer</td>\n",
       "      <td>Manual</td>\n",
       "      <td>0</td>\n",
       "    </tr>\n",
       "    <tr>\n",
       "      <th>...</th>\n",
       "      <td>...</td>\n",
       "      <td>...</td>\n",
       "      <td>...</td>\n",
       "      <td>...</td>\n",
       "      <td>...</td>\n",
       "      <td>...</td>\n",
       "      <td>...</td>\n",
       "      <td>...</td>\n",
       "      <td>...</td>\n",
       "    </tr>\n",
       "    <tr>\n",
       "      <th>296</th>\n",
       "      <td>city</td>\n",
       "      <td>2016</td>\n",
       "      <td>9.50</td>\n",
       "      <td>11.60</td>\n",
       "      <td>33988</td>\n",
       "      <td>Diesel</td>\n",
       "      <td>Dealer</td>\n",
       "      <td>Manual</td>\n",
       "      <td>0</td>\n",
       "    </tr>\n",
       "    <tr>\n",
       "      <th>297</th>\n",
       "      <td>brio</td>\n",
       "      <td>2015</td>\n",
       "      <td>4.00</td>\n",
       "      <td>5.90</td>\n",
       "      <td>60000</td>\n",
       "      <td>Petrol</td>\n",
       "      <td>Dealer</td>\n",
       "      <td>Manual</td>\n",
       "      <td>0</td>\n",
       "    </tr>\n",
       "    <tr>\n",
       "      <th>298</th>\n",
       "      <td>city</td>\n",
       "      <td>2009</td>\n",
       "      <td>3.35</td>\n",
       "      <td>11.00</td>\n",
       "      <td>87934</td>\n",
       "      <td>Petrol</td>\n",
       "      <td>Dealer</td>\n",
       "      <td>Manual</td>\n",
       "      <td>0</td>\n",
       "    </tr>\n",
       "    <tr>\n",
       "      <th>299</th>\n",
       "      <td>city</td>\n",
       "      <td>2017</td>\n",
       "      <td>11.50</td>\n",
       "      <td>12.50</td>\n",
       "      <td>9000</td>\n",
       "      <td>Diesel</td>\n",
       "      <td>Dealer</td>\n",
       "      <td>Manual</td>\n",
       "      <td>0</td>\n",
       "    </tr>\n",
       "    <tr>\n",
       "      <th>300</th>\n",
       "      <td>brio</td>\n",
       "      <td>2016</td>\n",
       "      <td>5.30</td>\n",
       "      <td>5.90</td>\n",
       "      <td>5464</td>\n",
       "      <td>Petrol</td>\n",
       "      <td>Dealer</td>\n",
       "      <td>Manual</td>\n",
       "      <td>0</td>\n",
       "    </tr>\n",
       "  </tbody>\n",
       "</table>\n",
       "<p>301 rows × 9 columns</p>\n",
       "</div>"
      ],
      "text/plain": [
       "    Car_Name  Year  Selling_Price  Present_Price  Driven_kms Fuel_Type  \\\n",
       "0       ritz  2014           3.35           5.59       27000    Petrol   \n",
       "1        sx4  2013           4.75           9.54       43000    Diesel   \n",
       "2       ciaz  2017           7.25           9.85        6900    Petrol   \n",
       "3    wagon r  2011           2.85           4.15        5200    Petrol   \n",
       "4      swift  2014           4.60           6.87       42450    Diesel   \n",
       "..       ...   ...            ...            ...         ...       ...   \n",
       "296     city  2016           9.50          11.60       33988    Diesel   \n",
       "297     brio  2015           4.00           5.90       60000    Petrol   \n",
       "298     city  2009           3.35          11.00       87934    Petrol   \n",
       "299     city  2017          11.50          12.50        9000    Diesel   \n",
       "300     brio  2016           5.30           5.90        5464    Petrol   \n",
       "\n",
       "    Selling_type Transmission  Owner  \n",
       "0         Dealer       Manual      0  \n",
       "1         Dealer       Manual      0  \n",
       "2         Dealer       Manual      0  \n",
       "3         Dealer       Manual      0  \n",
       "4         Dealer       Manual      0  \n",
       "..           ...          ...    ...  \n",
       "296       Dealer       Manual      0  \n",
       "297       Dealer       Manual      0  \n",
       "298       Dealer       Manual      0  \n",
       "299       Dealer       Manual      0  \n",
       "300       Dealer       Manual      0  \n",
       "\n",
       "[301 rows x 9 columns]"
      ]
     },
     "execution_count": 80,
     "metadata": {},
     "output_type": "execute_result"
    }
   ],
   "source": [
    "import pandas as pd\n",
    "\n",
    "file_path = '/Users/sergejvaresko/iis_proj/data/car data.csv'\n",
    "df = pd.read_csv(file_path)\n",
    "df"
   ]
  },
  {
   "cell_type": "code",
   "execution_count": 81,
   "metadata": {},
   "outputs": [
    {
     "name": "stdout",
     "output_type": "stream",
     "text": [
      "<class 'pandas.core.frame.DataFrame'>\n",
      "RangeIndex: 301 entries, 0 to 300\n",
      "Data columns (total 9 columns):\n",
      " #   Column         Non-Null Count  Dtype  \n",
      "---  ------         --------------  -----  \n",
      " 0   Car_Name       301 non-null    object \n",
      " 1   Year           301 non-null    int64  \n",
      " 2   Selling_Price  301 non-null    float64\n",
      " 3   Present_Price  301 non-null    float64\n",
      " 4   Driven_kms     301 non-null    int64  \n",
      " 5   Fuel_Type      301 non-null    object \n",
      " 6   Selling_type   301 non-null    object \n",
      " 7   Transmission   301 non-null    object \n",
      " 8   Owner          301 non-null    int64  \n",
      "dtypes: float64(2), int64(3), object(4)\n",
      "memory usage: 21.3+ KB\n"
     ]
    }
   ],
   "source": [
    "df.info()"
   ]
  },
  {
   "cell_type": "code",
   "execution_count": 82,
   "metadata": {},
   "outputs": [
    {
     "data": {
      "text/html": [
       "<div>\n",
       "<style scoped>\n",
       "    .dataframe tbody tr th:only-of-type {\n",
       "        vertical-align: middle;\n",
       "    }\n",
       "\n",
       "    .dataframe tbody tr th {\n",
       "        vertical-align: top;\n",
       "    }\n",
       "\n",
       "    .dataframe thead th {\n",
       "        text-align: right;\n",
       "    }\n",
       "</style>\n",
       "<table border=\"1\" class=\"dataframe\">\n",
       "  <thead>\n",
       "    <tr style=\"text-align: right;\">\n",
       "      <th></th>\n",
       "      <th>Year</th>\n",
       "      <th>Selling_Price</th>\n",
       "      <th>Present_Price</th>\n",
       "      <th>Driven_kms</th>\n",
       "      <th>Owner</th>\n",
       "    </tr>\n",
       "  </thead>\n",
       "  <tbody>\n",
       "    <tr>\n",
       "      <th>count</th>\n",
       "      <td>301.000000</td>\n",
       "      <td>301.000000</td>\n",
       "      <td>301.000000</td>\n",
       "      <td>301.000000</td>\n",
       "      <td>301.000000</td>\n",
       "    </tr>\n",
       "    <tr>\n",
       "      <th>mean</th>\n",
       "      <td>2013.627907</td>\n",
       "      <td>4.661296</td>\n",
       "      <td>7.628472</td>\n",
       "      <td>36947.205980</td>\n",
       "      <td>0.043189</td>\n",
       "    </tr>\n",
       "    <tr>\n",
       "      <th>std</th>\n",
       "      <td>2.891554</td>\n",
       "      <td>5.082812</td>\n",
       "      <td>8.642584</td>\n",
       "      <td>38886.883882</td>\n",
       "      <td>0.247915</td>\n",
       "    </tr>\n",
       "    <tr>\n",
       "      <th>min</th>\n",
       "      <td>2003.000000</td>\n",
       "      <td>0.100000</td>\n",
       "      <td>0.320000</td>\n",
       "      <td>500.000000</td>\n",
       "      <td>0.000000</td>\n",
       "    </tr>\n",
       "    <tr>\n",
       "      <th>25%</th>\n",
       "      <td>2012.000000</td>\n",
       "      <td>0.900000</td>\n",
       "      <td>1.200000</td>\n",
       "      <td>15000.000000</td>\n",
       "      <td>0.000000</td>\n",
       "    </tr>\n",
       "    <tr>\n",
       "      <th>50%</th>\n",
       "      <td>2014.000000</td>\n",
       "      <td>3.600000</td>\n",
       "      <td>6.400000</td>\n",
       "      <td>32000.000000</td>\n",
       "      <td>0.000000</td>\n",
       "    </tr>\n",
       "    <tr>\n",
       "      <th>75%</th>\n",
       "      <td>2016.000000</td>\n",
       "      <td>6.000000</td>\n",
       "      <td>9.900000</td>\n",
       "      <td>48767.000000</td>\n",
       "      <td>0.000000</td>\n",
       "    </tr>\n",
       "    <tr>\n",
       "      <th>max</th>\n",
       "      <td>2018.000000</td>\n",
       "      <td>35.000000</td>\n",
       "      <td>92.600000</td>\n",
       "      <td>500000.000000</td>\n",
       "      <td>3.000000</td>\n",
       "    </tr>\n",
       "  </tbody>\n",
       "</table>\n",
       "</div>"
      ],
      "text/plain": [
       "              Year  Selling_Price  Present_Price     Driven_kms       Owner\n",
       "count   301.000000     301.000000     301.000000     301.000000  301.000000\n",
       "mean   2013.627907       4.661296       7.628472   36947.205980    0.043189\n",
       "std       2.891554       5.082812       8.642584   38886.883882    0.247915\n",
       "min    2003.000000       0.100000       0.320000     500.000000    0.000000\n",
       "25%    2012.000000       0.900000       1.200000   15000.000000    0.000000\n",
       "50%    2014.000000       3.600000       6.400000   32000.000000    0.000000\n",
       "75%    2016.000000       6.000000       9.900000   48767.000000    0.000000\n",
       "max    2018.000000      35.000000      92.600000  500000.000000    3.000000"
      ]
     },
     "execution_count": 82,
     "metadata": {},
     "output_type": "execute_result"
    }
   ],
   "source": [
    "df.describe()"
   ]
  },
  {
   "cell_type": "markdown",
   "metadata": {},
   "source": [
    "Car_Name: категориальная переменная, представляющая модель транспортного средства, включая автомобили и мотоциклы.\\\n",
    "Year: числовое (целое), обозначающее год производства в диапазоне от 2003 до 2018.\\\n",
    "Selling_Price: **Целевой признак.** Числовое значение (с плавающей запятой), обозначающее цену, по которой продается автомобиль.\\\n",
    "Present_Price: числовое значение (с плавающей запятой), указывающее текущую рыночную стоимость автомобиля.\\\n",
    "Driven_kms: ​​числовое (целое), показывающее пройденные километры.\\\n",
    "Fuel_Type: категориальная переменная, указывающая тип используемого топлива (например, бензин, дизельное топливо, КПГ).\\\n",
    "Selling_type: категориальная переменная, обозначающая, продается ли автомобиль дилером или частным лицом.\\\n",
    "Transmission: Категориальная переменная, указывающая тип передачи\\\n",
    "Owner: числовое (целое), указывающее количество предыдущих владельцев автомобиля."
   ]
  },
  {
   "cell_type": "markdown",
   "metadata": {},
   "source": [
    "## Очистка данных"
   ]
  },
  {
   "cell_type": "code",
   "execution_count": 83,
   "metadata": {},
   "outputs": [
    {
     "data": {
      "text/plain": [
       "Car_Name         0\n",
       "Year             0\n",
       "Selling_Price    0\n",
       "Present_Price    0\n",
       "Driven_kms       0\n",
       "Fuel_Type        0\n",
       "Selling_type     0\n",
       "Transmission     0\n",
       "Owner            0\n",
       "dtype: int64"
      ]
     },
     "execution_count": 83,
     "metadata": {},
     "output_type": "execute_result"
    }
   ],
   "source": [
    "df.isna().sum()"
   ]
  },
  {
   "cell_type": "code",
   "execution_count": 84,
   "metadata": {},
   "outputs": [
    {
     "name": "stdout",
     "output_type": "stream",
     "text": [
      "Duplicates in df: 2\n",
      "Duplicates after drop_duplicates in df: 0\n"
     ]
    }
   ],
   "source": [
    "print(f'Duplicates in df: {df.duplicated().sum()}')\n",
    "df = df.drop_duplicates()\n",
    "print(f'Duplicates after drop_duplicates in df: {df.duplicated().sum()}')"
   ]
  },
  {
   "cell_type": "code",
   "execution_count": 85,
   "metadata": {},
   "outputs": [
    {
     "name": "stderr",
     "output_type": "stream",
     "text": [
      "/var/folders/3f/x14h836923j7lv3kqcc_d9gc0000gn/T/ipykernel_19007/1316104760.py:1: SettingWithCopyWarning:\n",
      "\n",
      "\n",
      "A value is trying to be set on a copy of a slice from a DataFrame\n",
      "\n",
      "See the caveats in the documentation: https://pandas.pydata.org/pandas-docs/stable/user_guide/indexing.html#returning-a-view-versus-a-copy\n",
      "\n"
     ]
    }
   ],
   "source": [
    "df.drop(columns=['Car_Name'], inplace=True)"
   ]
  },
  {
   "cell_type": "markdown",
   "metadata": {},
   "source": [
    "столбец Car_Name не несет полезной иноформации для классификации, т.к. не реальных данных количество имен машин может быть неограничено, поэтому этот столбец был исключен из датасета"
   ]
  },
  {
   "cell_type": "markdown",
   "metadata": {},
   "source": [
    "## Анализ признаков для модели"
   ]
  },
  {
   "cell_type": "code",
   "execution_count": 86,
   "metadata": {},
   "outputs": [
    {
     "data": {
      "image/png": "[encoded data removed]",
      "text/plain": [
       "<Figure size 640x480 with 1 Axes>"
      ]
     },
     "metadata": {},
     "output_type": "display_data"
    }
   ],
   "source": [
    "plt.hist(df['Selling_Price'], bins=20, edgecolor='black', alpha=0.6)\n",
    "plt.title('Распределение целевой переменной')\n",
    "plt.ylabel('');"
   ]
  },
  {
   "cell_type": "markdown",
   "metadata": {},
   "source": [
    "График показывает распределение таргетной переменной\n",
    "* Из графика видно, что есть значимый перекос кол-ва продаж от цены (при меньшей цене больше примеров продаж)\\\n",
    "\n",
    "**Почему перекос является проблемой:**\n",
    "\n",
    "- Если целевая переменная сильно перекошена, это может повлиять на производительность регрессионных моделей, особенно линейных моделей, которые предполагают, что целевая переменная нормально распределена.\n",
    "\n",
    "- Перекос может привести к предвзятым прогнозам и низкой производительности модели\n",
    "\n",
    "**Интерпретация перекоса:**\n",
    "\n",
    "- Если перекос находится между -0,5 и 0,5, распределение приблизительно симметричное.\n",
    "\n",
    "- Если перекос > 0,5, распределение положительно перекошено вправо.\n",
    "\n",
    "- Если перекос < -0,5, распределение отрицательно перекошено влево\n",
    "\n",
    "**Как справиться с перекосом:**\n",
    "\n",
    "- Преобразование журнала: np.log(Selling_Price)\n",
    "\n",
    "- Преобразование квадратного корня: np.sqrt(Selling_Price)"
   ]
  },
  {
   "cell_type": "code",
   "execution_count": 87,
   "metadata": {},
   "outputs": [
    {
     "data": {
      "image/png": "[encoded data removed]",
      "text/plain": [
       "<Figure size 640x480 with 1 Axes>"
      ]
     },
     "metadata": {},
     "output_type": "display_data"
    }
   ],
   "source": [
    "plt.hist(np.log(df['Selling_Price']), bins=20, edgecolor='black', alpha=0.6)\n",
    "plt.title('Распределение целевой переменной после взятия логарифма');"
   ]
  },
  {
   "cell_type": "markdown",
   "metadata": {},
   "source": [
    "Был выбран метод взятия логарифма от целевой перменной для приведения распределения близкого к нормальному"
   ]
  },
  {
   "cell_type": "code",
   "execution_count": 88,
   "metadata": {},
   "outputs": [
    {
     "name": "stderr",
     "output_type": "stream",
     "text": [
      "/var/folders/3f/x14h836923j7lv3kqcc_d9gc0000gn/T/ipykernel_19007/1583521514.py:1: SettingWithCopyWarning:\n",
      "\n",
      "\n",
      "A value is trying to be set on a copy of a slice from a DataFrame.\n",
      "Try using .loc[row_indexer,col_indexer] = value instead\n",
      "\n",
      "See the caveats in the documentation: https://pandas.pydata.org/pandas-docs/stable/user_guide/indexing.html#returning-a-view-versus-a-copy\n",
      "\n"
     ]
    }
   ],
   "source": [
    "df['Selling_Price'] = np.log(df['Selling_Price'])"
   ]
  },
  {
   "cell_type": "code",
   "execution_count": 89,
   "metadata": {},
   "outputs": [
    {
     "data": {
      "image/png": "[encoded data removed]",
      "text/plain": [
       "<Figure size 1000x800 with 2 Axes>"
      ]
     },
     "metadata": {},
     "output_type": "display_data"
    }
   ],
   "source": [
    "numerical_features = df.select_dtypes(include=[\"number\"])\n",
    "correlation_matrix = numerical_features.corr()\n",
    "plt.figure(figsize=(10, 8))\n",
    "sns.heatmap(correlation_matrix, annot=True, fmt='.2f')\n",
    "plt.title(\"Correlation Matrix\")\n",
    "plt.show()"
   ]
  },
  {
   "cell_type": "markdown",
   "metadata": {},
   "source": [
    "Матрица корреляций показывает сильную зависимость между Оценочной ценой и ценой продажи, что также может негативно повлиять на качество классификации."
   ]
  },
  {
   "cell_type": "code",
   "execution_count": 90,
   "metadata": {},
   "outputs": [
    {
     "data": {
      "image/png": "[encoded data removed]",
      "text/plain": [
       "<Figure size 1800x600 with 3 Axes>"
      ]
     },
     "metadata": {},
     "output_type": "display_data"
    }
   ],
   "source": [
    "fig, axes = plt.subplots(1, 3, figsize=(18, 6), constrained_layout=True)\n",
    "\n",
    "sns.boxplot(ax=axes[0], y=df['Driven_kms'], color='darkblue', showfliers=True)\n",
    "axes[0].set_title('Driven_kms', fontsize=14)\n",
    "axes[0].set_ylabel(\"\") \n",
    "\n",
    "sns.boxplot(ax=axes[1], y=df['Present_Price'], color='darkgreen', showfliers=True)\n",
    "axes[1].set_title('Present_Price', fontsize=14)\n",
    "axes[1].set_ylabel(\"\")\n",
    "\n",
    "sns.boxplot(ax=axes[2], y=df['Selling_Price'], color='darkred', showfliers=True)\n",
    "axes[2].set_title('Selling_Price', fontsize=14)\n",
    "axes[2].set_ylabel(\"\")\n",
    "\n",
    "fig.suptitle('Ящик с усами для числовых признаков', fontsize=20, weight='bold')\n",
    "\n",
    "plt.show()\n"
   ]
  },
  {
   "cell_type": "markdown",
   "metadata": {},
   "source": [
    "У пробега и оценочной цены есть небольшое кол-во выбросов, но их кол-во не критично, поэтому данные столбцы постобработки не требуют.\\\n",
    "У таргетной переменной нет выбросов, имеется небольшое медианное смещение."
   ]
  },
  {
   "cell_type": "code",
   "execution_count": 91,
   "metadata": {},
   "outputs": [
    {
     "data": {
      "application/vnd.plotly.v1+json": {
       "config": {
        "plotlyServerURL": "https://plot.ly"
       },
       "data": [
        {
         "hovertemplate": "Selling_Price=%{x}<br>Year=%{y}<extra></extra>",
         "legendgroup": "",
         "line": {
          "color": "#636efa",
          "dash": "solid"
         },
         "marker": {
          "symbol": "circle"
         },
         "mode": "lines",
         "name": "",
         "orientation": "v",
         "showlegend": false,
         "type": "scatter",
         "x": {
          "bdata": "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",
          "dtype": "f8"
         },
         "xaxis": "x",
         "y": {
          "bdata": "1gfXB9sH2gfYB98H2AfcB9UH1wfYB90H3QfdB9oH2AfYB90H3QfgB9wH2gfgB94H0wfbB98H2wffB9wH3gffB+EH3QfeB9sH3AfhB+AH4AfgB9oH3gfhB98H4QfhB94H3QfcB9sH4AfgB9oH3gffB+AH3wfgB90H3wfgB94H3AfdB94H3wfhB+AH3wfgB+EH4QfhB+EH2QfhB9wH3QfWB+AH2wfdB+AH3QffB98H3wfgB94H4AffB+AH4AfhB9wH3QfeB+EH3wfhB9QH4QfhB+AH2gfYB9wH1gfZB9oH0wfbB94H1gfeB9sH3QfbB9oH2wfVB98H2wfgB+EH3QfgB9sH2wfbB+AH2wfcB9kH3AfcB9wH4AfgB9oH2gffB9kH3gfdB9UH3QfhB9UH2QfeB94H3AfZB94H3QffB94H3wffB98H2AfdB9sH3gfdB9sH3wfeB9sH3wfbB9wH3AfeB90H3wfeB98H2gffB90H3gfeB98H3QfhB98H4QfeB94H3AfdB90H3wfcB90H2gfgB98H3wfhB+AH4AfeB9wH3wffB90H4AffB94H3gfgB+EH3wffB+AH3AfcB90H3wfeB94H4QfgB98H3QfeB+AH4AfeB+EH3wfgB98H3wffB90H3QfeB+EH3wfgB90H3wffB98H3wfeB+EH4AfhB98H3gfgB98H3wffB98H3wfgB+AH4QfgB+EH4gfaB+AH2gffB+AH4AfgB94H3wfgB98H4QffB98H4AfgB9wH4AfcB90H4QfhB94H4QfeB+AH4QffB98H4QfaBw==",
          "dtype": "i2"
         },
         "yaxis": "y"
        }
       ],
       "layout": {
        "legend": {
         "tracegroupgap": 0
        },
        "template": {
         "data": {
          "bar": [
           {
            "error_x": {
             "color": "#2a3f5f"
            },
            "error_y": {
             "color": "#2a3f5f"
            },
            "marker": {
             "line": {
              "color": "#E5ECF6",
              "width": 0.5
             },
             "pattern": {
              "fillmode": "overlay",
              "size": 10,
              "solidity": 0.2
             }
            },
            "type": "bar"
           }
          ],
          "barpolar": [
           {
            "marker": {
             "line": {
              "color": "#E5ECF6",
              "width": 0.5
             },
             "pattern": {
              "fillmode": "overlay",
              "size": 10,
              "solidity": 0.2
             }
            },
            "type": "barpolar"
           }
          ],
          "carpet": [
           {
            "aaxis": {
             "endlinecolor": "#2a3f5f",
             "gridcolor": "white",
             "linecolor": "white",
             "minorgridcolor": "white",
             "startlinecolor": "#2a3f5f"
            },
            "baxis": {
             "endlinecolor": "#2a3f5f",
             "gridcolor": "white",
             "linecolor": "white",
             "minorgridcolor": "white",
             "startlinecolor": "#2a3f5f"
            },
            "type": "carpet"
           }
          ],
          "choropleth": [
           {
            "colorbar": {
             "outlinewidth": 0,
             "ticks": ""
            },
            "type": "choropleth"
           }
          ],
          "contour": [
           {
            "colorbar": {
             "outlinewidth": 0,
             "ticks": ""
            },
            "colorscale": [
             [
              0,
              "#0d0887"
             ],
             [
              0.1111111111111111,
              "#46039f"
             ],
             [
              0.2222222222222222,
              "#7201a8"
             ],
             [
              0.3333333333333333,
              "#9c179e"
             ],
             [
              0.4444444444444444,
              "#bd3786"
             ],
             [
              0.5555555555555556,
              "#d8576b"
             ],
             [
              0.6666666666666666,
              "#ed7953"
             ],
             [
              0.7777777777777778,
              "#fb9f3a"
             ],
             [
              0.8888888888888888,
              "#fdca26"
             ],
             [
              1,
              "#f0f921"
             ]
            ],
            "type": "contour"
           }
          ],
          "contourcarpet": [
           {
            "colorbar": {
             "outlinewidth": 0,
             "ticks": ""
            },
            "type": "contourcarpet"
           }
          ],
          "heatmap": [
           {
            "colorbar": {
             "outlinewidth": 0,
             "ticks": ""
            },
            "colorscale": [
             [
              0,
              "#0d0887"
             ],
             [
              0.1111111111111111,
              "#46039f"
             ],
             [
              0.2222222222222222,
              "#7201a8"
             ],
             [
              0.3333333333333333,
              "#9c179e"
             ],
             [
              0.4444444444444444,
              "#bd3786"
             ],
             [
              0.5555555555555556,
              "#d8576b"
             ],
             [
              0.6666666666666666,
              "#ed7953"
             ],
             [
              0.7777777777777778,
              "#fb9f3a"
             ],
             [
              0.8888888888888888,
              "#fdca26"
             ],
             [
              1,
              "#f0f921"
             ]
            ],
            "type": "heatmap"
           }
          ],
          "histogram": [
           {
            "marker": {
             "pattern": {
              "fillmode": "overlay",
              "size": 10,
              "solidity": 0.2
             }
            },
            "type": "histogram"
           }
          ],
          "histogram2d": [
           {
            "colorbar": {
             "outlinewidth": 0,
             "ticks": ""
            },
            "colorscale": [
             [
              0,
              "#0d0887"
             ],
             [
              0.1111111111111111,
              "#46039f"
             ],
             [
              0.2222222222222222,
              "#7201a8"
             ],
             [
              0.3333333333333333,
              "#9c179e"
             ],
             [
              0.4444444444444444,
              "#bd3786"
             ],
             [
              0.5555555555555556,
              "#d8576b"
             ],
             [
              0.6666666666666666,
              "#ed7953"
             ],
             [
              0.7777777777777778,
              "#fb9f3a"
             ],
             [
              0.8888888888888888,
              "#fdca26"
             ],
             [
              1,
              "#f0f921"
             ]
            ],
            "type": "histogram2d"
           }
          ],
          "histogram2dcontour": [
           {
            "colorbar": {
             "outlinewidth": 0,
             "ticks": ""
            },
            "colorscale": [
             [
              0,
              "#0d0887"
             ],
             [
              0.1111111111111111,
              "#46039f"
             ],
             [
              0.2222222222222222,
              "#7201a8"
             ],
             [
              0.3333333333333333,
              "#9c179e"
             ],
             [
              0.4444444444444444,
              "#bd3786"
             ],
             [
              0.5555555555555556,
              "#d8576b"
             ],
             [
              0.6666666666666666,
              "#ed7953"
             ],
             [
              0.7777777777777778,
              "#fb9f3a"
             ],
             [
              0.8888888888888888,
              "#fdca26"
             ],
             [
              1,
              "#f0f921"
             ]
            ],
            "type": "histogram2dcontour"
           }
          ],
          "mesh3d": [
           {
            "colorbar": {
             "outlinewidth": 0,
             "ticks": ""
            },
            "type": "mesh3d"
           }
          ],
          "parcoords": [
           {
            "line": {
             "colorbar": {
              "outlinewidth": 0,
              "ticks": ""
             }
            },
            "type": "parcoords"
           }
          ],
          "pie": [
           {
            "automargin": true,
            "type": "pie"
           }
          ],
          "scatter": [
           {
            "fillpattern": {
             "fillmode": "overlay",
             "size": 10,
             "solidity": 0.2
            },
            "type": "scatter"
           }
          ],
          "scatter3d": [
           {
            "line": {
             "colorbar": {
              "outlinewidth": 0,
              "ticks": ""
             }
            },
            "marker": {
             "colorbar": {
              "outlinewidth": 0,
              "ticks": ""
             }
            },
            "type": "scatter3d"
           }
          ],
          "scattercarpet": [
           {
            "marker": {
             "colorbar": {
              "outlinewidth": 0,
              "ticks": ""
             }
            },
            "type": "scattercarpet"
           }
          ],
          "scattergeo": [
           {
            "marker": {
             "colorbar": {
              "outlinewidth": 0,
              "ticks": ""
             }
            },
            "type": "scattergeo"
           }
          ],
          "scattergl": [
           {
            "marker": {
             "colorbar": {
              "outlinewidth": 0,
              "ticks": ""
             }
            },
            "type": "scattergl"
           }
          ],
          "scattermap": [
           {
            "marker": {
             "colorbar": {
              "outlinewidth": 0,
              "ticks": ""
             }
            },
            "type": "scattermap"
           }
          ],
          "scattermapbox": [
           {
            "marker": {
             "colorbar": {
              "outlinewidth": 0,
              "ticks": ""
             }
            },
            "type": "scattermapbox"
           }
          ],
          "scatterpolar": [
           {
            "marker": {
             "colorbar": {
              "outlinewidth": 0,
              "ticks": ""
             }
            },
            "type": "scatterpolar"
           }
          ],
          "scatterpolargl": [
           {
            "marker": {
             "colorbar": {
              "outlinewidth": 0,
              "ticks": ""
             }
            },
            "type": "scatterpolargl"
           }
          ],
          "scatterternary": [
           {
            "marker": {
             "colorbar": {
              "outlinewidth": 0,
              "ticks": ""
             }
            },
            "type": "scatterternary"
           }
          ],
          "surface": [
           {
            "colorbar": {
             "outlinewidth": 0,
             "ticks": ""
            },
            "colorscale": [
             [
              0,
              "#0d0887"
             ],
             [
              0.1111111111111111,
              "#46039f"
             ],
             [
              0.2222222222222222,
              "#7201a8"
             ],
             [
              0.3333333333333333,
              "#9c179e"
             ],
             [
              0.4444444444444444,
              "#bd3786"
             ],
             [
              0.5555555555555556,
              "#d8576b"
             ],
             [
              0.6666666666666666,
              "#ed7953"
             ],
             [
              0.7777777777777778,
              "#fb9f3a"
             ],
             [
              0.8888888888888888,
              "#fdca26"
             ],
             [
              1,
              "#f0f921"
             ]
            ],
            "type": "surface"
           }
          ],
          "table": [
           {
            "cells": {
             "fill": {
              "color": "#EBF0F8"
             },
             "line": {
              "color": "white"
             }
            },
            "header": {
             "fill": {
              "color": "#C8D4E3"
             },
             "line": {
              "color": "white"
             }
            },
            "type": "table"
           }
          ]
         },
         "layout": {
          "annotationdefaults": {
           "arrowcolor": "#2a3f5f",
           "arrowhead": 0,
           "arrowwidth": 1
          },
          "autotypenumbers": "strict",
          "coloraxis": {
           "colorbar": {
            "outlinewidth": 0,
            "ticks": ""
           }
          },
          "colorscale": {
           "diverging": [
            [
             0,
             "#8e0152"
            ],
            [
             0.1,
             "#c51b7d"
            ],
            [
             0.2,
             "#de77ae"
            ],
            [
             0.3,
             "#f1b6da"
            ],
            [
             0.4,
             "#fde0ef"
            ],
            [
             0.5,
             "#f7f7f7"
            ],
            [
             0.6,
             "#e6f5d0"
            ],
            [
             0.7,
             "#b8e186"
            ],
            [
             0.8,
             "#7fbc41"
            ],
            [
             0.9,
             "#4d9221"
            ],
            [
             1,
             "#276419"
            ]
           ],
           "sequential": [
            [
             0,
             "#0d0887"
            ],
            [
             0.1111111111111111,
             "#46039f"
            ],
            [
             0.2222222222222222,
             "#7201a8"
            ],
            [
             0.3333333333333333,
             "#9c179e"
            ],
            [
             0.4444444444444444,
             "#bd3786"
            ],
            [
             0.5555555555555556,
             "#d8576b"
            ],
            [
             0.6666666666666666,
             "#ed7953"
            ],
            [
             0.7777777777777778,
             "#fb9f3a"
            ],
            [
             0.8888888888888888,
             "#fdca26"
            ],
            [
             1,
             "#f0f921"
            ]
           ],
           "sequentialminus": [
            [
             0,
             "#0d0887"
            ],
            [
             0.1111111111111111,
             "#46039f"
            ],
            [
             0.2222222222222222,
             "#7201a8"
            ],
            [
             0.3333333333333333,
             "#9c179e"
            ],
            [
             0.4444444444444444,
             "#bd3786"
            ],
            [
             0.5555555555555556,
             "#d8576b"
            ],
            [
             0.6666666666666666,
             "#ed7953"
            ],
            [
             0.7777777777777778,
             "#fb9f3a"
            ],
            [
             0.8888888888888888,
             "#fdca26"
            ],
            [
             1,
             "#f0f921"
            ]
           ]
          },
          "colorway": [
           "#636efa",
           "#EF553B",
           "#00cc96",
           "#ab63fa",
           "#FFA15A",
           "#19d3f3",
           "#FF6692",
           "#B6E880",
           "#FF97FF",
           "#FECB52"
          ],
          "font": {
           "color": "#2a3f5f"
          },
          "geo": {
           "bgcolor": "white",
           "lakecolor": "white",
           "landcolor": "#E5ECF6",
           "showlakes": true,
           "showland": true,
           "subunitcolor": "white"
          },
          "hoverlabel": {
           "align": "left"
          },
          "hovermode": "closest",
          "mapbox": {
           "style": "light"
          },
          "paper_bgcolor": "white",
          "plot_bgcolor": "#E5ECF6",
          "polar": {
           "angularaxis": {
            "gridcolor": "white",
            "linecolor": "white",
            "ticks": ""
           },
           "bgcolor": "#E5ECF6",
           "radialaxis": {
            "gridcolor": "white",
            "linecolor": "white",
            "ticks": ""
           }
          },
          "scene": {
           "xaxis": {
            "backgroundcolor": "#E5ECF6",
            "gridcolor": "white",
            "gridwidth": 2,
            "linecolor": "white",
            "showbackground": true,
            "ticks": "",
            "zerolinecolor": "white"
           },
           "yaxis": {
            "backgroundcolor": "#E5ECF6",
            "gridcolor": "white",
            "gridwidth": 2,
            "linecolor": "white",
            "showbackground": true,
            "ticks": "",
            "zerolinecolor": "white"
           },
           "zaxis": {
            "backgroundcolor": "#E5ECF6",
            "gridcolor": "white",
            "gridwidth": 2,
            "linecolor": "white",
            "showbackground": true,
            "ticks": "",
            "zerolinecolor": "white"
           }
          },
          "shapedefaults": {
           "line": {
            "color": "#2a3f5f"
           }
          },
          "ternary": {
           "aaxis": {
            "gridcolor": "white",
            "linecolor": "white",
            "ticks": ""
           },
           "baxis": {
            "gridcolor": "white",
            "linecolor": "white",
            "ticks": ""
           },
           "bgcolor": "#E5ECF6",
           "caxis": {
            "gridcolor": "white",
            "linecolor": "white",
            "ticks": ""
           }
          },
          "title": {
           "x": 0.05
          },
          "xaxis": {
           "automargin": true,
           "gridcolor": "white",
           "linecolor": "white",
           "ticks": "",
           "title": {
            "standoff": 15
           },
           "zerolinecolor": "white",
           "zerolinewidth": 2
          },
          "yaxis": {
           "automargin": true,
           "gridcolor": "white",
           "linecolor": "white",
           "ticks": "",
           "title": {
            "standoff": 15
           },
           "zerolinecolor": "white",
           "zerolinewidth": 2
          }
         }
        },
        "title": {
         "text": "Selling_Price vs Year"
        },
        "xaxis": {
         "anchor": "y",
         "domain": [
          0,
          1
         ],
         "title": {
          "text": "Selling_Price"
         }
        },
        "yaxis": {
         "anchor": "x",
         "domain": [
          0,
          1
         ],
         "title": {
          "text": "Year"
         }
        }
       }
      }
     },
     "metadata": {},
     "output_type": "display_data"
    },
    {
     "data": {
      "application/vnd.plotly.v1+json": {
       "config": {
        "plotlyServerURL": "https://plot.ly"
       },
       "data": [
        {
         "hovertemplate": "Selling_Price=%{y}<extra></extra>",
         "legendgroup": "",
         "line": {
          "color": "#636efa",
          "dash": "solid"
         },
         "marker": {
          "symbol": "circle"
         },
         "mode": "lines",
         "name": "",
         "orientation": "v",
         "showlegend": false,
         "type": "scatter",
         "x": {
          "bdata": "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",
          "dtype": "f8"
         },
         "xaxis": "x",
         "y": {
          "bdata": "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",
          "dtype": "f8"
         },
         "yaxis": "y"
        }
       ],
       "layout": {
        "legend": {
         "tracegroupgap": 0
        },
        "template": {
         "data": {
          "bar": [
           {
            "error_x": {
             "color": "#2a3f5f"
            },
            "error_y": {
             "color": "#2a3f5f"
            },
            "marker": {
             "line": {
              "color": "#E5ECF6",
              "width": 0.5
             },
             "pattern": {
              "fillmode": "overlay",
              "size": 10,
              "solidity": 0.2
             }
            },
            "type": "bar"
           }
          ],
          "barpolar": [
           {
            "marker": {
             "line": {
              "color": "#E5ECF6",
              "width": 0.5
             },
             "pattern": {
              "fillmode": "overlay",
              "size": 10,
              "solidity": 0.2
             }
            },
            "type": "barpolar"
           }
          ],
          "carpet": [
           {
            "aaxis": {
             "endlinecolor": "#2a3f5f",
             "gridcolor": "white",
             "linecolor": "white",
             "minorgridcolor": "white",
             "startlinecolor": "#2a3f5f"
            },
            "baxis": {
             "endlinecolor": "#2a3f5f",
             "gridcolor": "white",
             "linecolor": "white",
             "minorgridcolor": "white",
             "startlinecolor": "#2a3f5f"
            },
            "type": "carpet"
           }
          ],
          "choropleth": [
           {
            "colorbar": {
             "outlinewidth": 0,
             "ticks": ""
            },
            "type": "choropleth"
           }
          ],
          "contour": [
           {
            "colorbar": {
             "outlinewidth": 0,
             "ticks": ""
            },
            "colorscale": [
             [
              0,
              "#0d0887"
             ],
             [
              0.1111111111111111,
              "#46039f"
             ],
             [
              0.2222222222222222,
              "#7201a8"
             ],
             [
              0.3333333333333333,
              "#9c179e"
             ],
             [
              0.4444444444444444,
              "#bd3786"
             ],
             [
              0.5555555555555556,
              "#d8576b"
             ],
             [
              0.6666666666666666,
              "#ed7953"
             ],
             [
              0.7777777777777778,
              "#fb9f3a"
             ],
             [
              0.8888888888888888,
              "#fdca26"
             ],
             [
              1,
              "#f0f921"
             ]
            ],
            "type": "contour"
           }
          ],
          "contourcarpet": [
           {
            "colorbar": {
             "outlinewidth": 0,
             "ticks": ""
            },
            "type": "contourcarpet"
           }
          ],
          "heatmap": [
           {
            "colorbar": {
             "outlinewidth": 0,
             "ticks": ""
            },
            "colorscale": [
             [
              0,
              "#0d0887"
             ],
             [
              0.1111111111111111,
              "#46039f"
             ],
             [
              0.2222222222222222,
              "#7201a8"
             ],
             [
              0.3333333333333333,
              "#9c179e"
             ],
             [
              0.4444444444444444,
              "#bd3786"
             ],
             [
              0.5555555555555556,
              "#d8576b"
             ],
             [
              0.6666666666666666,
              "#ed7953"
             ],
             [
              0.7777777777777778,
              "#fb9f3a"
             ],
             [
              0.8888888888888888,
              "#fdca26"
             ],
             [
              1,
              "#f0f921"
             ]
            ],
            "type": "heatmap"
           }
          ],
          "histogram": [
           {
            "marker": {
             "pattern": {
              "fillmode": "overlay",
              "size": 10,
              "solidity": 0.2
             }
            },
            "type": "histogram"
           }
          ],
          "histogram2d": [
           {
            "colorbar": {
             "outlinewidth": 0,
             "ticks": ""
            },
            "colorscale": [
             [
              0,
              "#0d0887"
             ],
             [
              0.1111111111111111,
              "#46039f"
             ],
             [
              0.2222222222222222,
              "#7201a8"
             ],
             [
              0.3333333333333333,
              "#9c179e"
             ],
             [
              0.4444444444444444,
              "#bd3786"
             ],
             [
              0.5555555555555556,
              "#d8576b"
             ],
             [
              0.6666666666666666,
              "#ed7953"
             ],
             [
              0.7777777777777778,
              "#fb9f3a"
             ],
             [
              0.8888888888888888,
              "#fdca26"
             ],
             [
              1,
              "#f0f921"
             ]
            ],
            "type": "histogram2d"
           }
          ],
          "histogram2dcontour": [
           {
            "colorbar": {
             "outlinewidth": 0,
             "ticks": ""
            },
            "colorscale": [
             [
              0,
              "#0d0887"
             ],
             [
              0.1111111111111111,
              "#46039f"
             ],
             [
              0.2222222222222222,
              "#7201a8"
             ],
             [
              0.3333333333333333,
              "#9c179e"
             ],
             [
              0.4444444444444444,
              "#bd3786"
             ],
             [
              0.5555555555555556,
              "#d8576b"
             ],
             [
              0.6666666666666666,
              "#ed7953"
             ],
             [
              0.7777777777777778,
              "#fb9f3a"
             ],
             [
              0.8888888888888888,
              "#fdca26"
             ],
             [
              1,
              "#f0f921"
             ]
            ],
            "type": "histogram2dcontour"
           }
          ],
          "mesh3d": [
           {
            "colorbar": {
             "outlinewidth": 0,
             "ticks": ""
            },
            "type": "mesh3d"
           }
          ],
          "parcoords": [
           {
            "line": {
             "colorbar": {
              "outlinewidth": 0,
              "ticks": ""
             }
            },
            "type": "parcoords"
           }
          ],
          "pie": [
           {
            "automargin": true,
            "type": "pie"
           }
          ],
          "scatter": [
           {
            "fillpattern": {
             "fillmode": "overlay",
             "size": 10,
             "solidity": 0.2
            },
            "type": "scatter"
           }
          ],
          "scatter3d": [
           {
            "line": {
             "colorbar": {
              "outlinewidth": 0,
              "ticks": ""
             }
            },
            "marker": {
             "colorbar": {
              "outlinewidth": 0,
              "ticks": ""
             }
            },
            "type": "scatter3d"
           }
          ],
          "scattercarpet": [
           {
            "marker": {
             "colorbar": {
              "outlinewidth": 0,
              "ticks": ""
             }
            },
            "type": "scattercarpet"
           }
          ],
          "scattergeo": [
           {
            "marker": {
             "colorbar": {
              "outlinewidth": 0,
              "ticks": ""
             }
            },
            "type": "scattergeo"
           }
          ],
          "scattergl": [
           {
            "marker": {
             "colorbar": {
              "outlinewidth": 0,
              "ticks": ""
             }
            },
            "type": "scattergl"
           }
          ],
          "scattermap": [
           {
            "marker": {
             "colorbar": {
              "outlinewidth": 0,
              "ticks": ""
             }
            },
            "type": "scattermap"
           }
          ],
          "scattermapbox": [
           {
            "marker": {
             "colorbar": {
              "outlinewidth": 0,
              "ticks": ""
             }
            },
            "type": "scattermapbox"
           }
          ],
          "scatterpolar": [
           {
            "marker": {
             "colorbar": {
              "outlinewidth": 0,
              "ticks": ""
             }
            },
            "type": "scatterpolar"
           }
          ],
          "scatterpolargl": [
           {
            "marker": {
             "colorbar": {
              "outlinewidth": 0,
              "ticks": ""
             }
            },
            "type": "scatterpolargl"
           }
          ],
          "scatterternary": [
           {
            "marker": {
             "colorbar": {
              "outlinewidth": 0,
              "ticks": ""
             }
            },
            "type": "scatterternary"
           }
          ],
          "surface": [
           {
            "colorbar": {
             "outlinewidth": 0,
             "ticks": ""
            },
            "colorscale": [
             [
              0,
              "#0d0887"
             ],
             [
              0.1111111111111111,
              "#46039f"
             ],
             [
              0.2222222222222222,
              "#7201a8"
             ],
             [
              0.3333333333333333,
              "#9c179e"
             ],
             [
              0.4444444444444444,
              "#bd3786"
             ],
             [
              0.5555555555555556,
              "#d8576b"
             ],
             [
              0.6666666666666666,
              "#ed7953"
             ],
             [
              0.7777777777777778,
              "#fb9f3a"
             ],
             [
              0.8888888888888888,
              "#fdca26"
             ],
             [
              1,
              "#f0f921"
             ]
            ],
            "type": "surface"
           }
          ],
          "table": [
           {
            "cells": {
             "fill": {
              "color": "#EBF0F8"
             },
             "line": {
              "color": "white"
             }
            },
            "header": {
             "fill": {
              "color": "#C8D4E3"
             },
             "line": {
              "color": "white"
             }
            },
            "type": "table"
           }
          ]
         },
         "layout": {
          "annotationdefaults": {
           "arrowcolor": "#2a3f5f",
           "arrowhead": 0,
           "arrowwidth": 1
          },
          "autotypenumbers": "strict",
          "coloraxis": {
           "colorbar": {
            "outlinewidth": 0,
            "ticks": ""
           }
          },
          "colorscale": {
           "diverging": [
            [
             0,
             "#8e0152"
            ],
            [
             0.1,
             "#c51b7d"
            ],
            [
             0.2,
             "#de77ae"
            ],
            [
             0.3,
             "#f1b6da"
            ],
            [
             0.4,
             "#fde0ef"
            ],
            [
             0.5,
             "#f7f7f7"
            ],
            [
             0.6,
             "#e6f5d0"
            ],
            [
             0.7,
             "#b8e186"
            ],
            [
             0.8,
             "#7fbc41"
            ],
            [
             0.9,
             "#4d9221"
            ],
            [
             1,
             "#276419"
            ]
           ],
           "sequential": [
            [
             0,
             "#0d0887"
            ],
            [
             0.1111111111111111,
             "#46039f"
            ],
            [
             0.2222222222222222,
             "#7201a8"
            ],
            [
             0.3333333333333333,
             "#9c179e"
            ],
            [
             0.4444444444444444,
             "#bd3786"
            ],
            [
             0.5555555555555556,
             "#d8576b"
            ],
            [
             0.6666666666666666,
             "#ed7953"
            ],
            [
             0.7777777777777778,
             "#fb9f3a"
            ],
            [
             0.8888888888888888,
             "#fdca26"
            ],
            [
             1,
             "#f0f921"
            ]
           ],
           "sequentialminus": [
            [
             0,
             "#0d0887"
            ],
            [
             0.1111111111111111,
             "#46039f"
            ],
            [
             0.2222222222222222,
             "#7201a8"
            ],
            [
             0.3333333333333333,
             "#9c179e"
            ],
            [
             0.4444444444444444,
             "#bd3786"
            ],
            [
             0.5555555555555556,
             "#d8576b"
            ],
            [
             0.6666666666666666,
             "#ed7953"
            ],
            [
             0.7777777777777778,
             "#fb9f3a"
            ],
            [
             0.8888888888888888,
             "#fdca26"
            ],
            [
             1,
             "#f0f921"
            ]
           ]
          },
          "colorway": [
           "#636efa",
           "#EF553B",
           "#00cc96",
           "#ab63fa",
           "#FFA15A",
           "#19d3f3",
           "#FF6692",
           "#B6E880",
           "#FF97FF",
           "#FECB52"
          ],
          "font": {
           "color": "#2a3f5f"
          },
          "geo": {
           "bgcolor": "white",
           "lakecolor": "white",
           "landcolor": "#E5ECF6",
           "showlakes": true,
           "showland": true,
           "subunitcolor": "white"
          },
          "hoverlabel": {
           "align": "left"
          },
          "hovermode": "closest",
          "mapbox": {
           "style": "light"
          },
          "paper_bgcolor": "white",
          "plot_bgcolor": "#E5ECF6",
          "polar": {
           "angularaxis": {
            "gridcolor": "white",
            "linecolor": "white",
            "ticks": ""
           },
           "bgcolor": "#E5ECF6",
           "radialaxis": {
            "gridcolor": "white",
            "linecolor": "white",
            "ticks": ""
           }
          },
          "scene": {
           "xaxis": {
            "backgroundcolor": "#E5ECF6",
            "gridcolor": "white",
            "gridwidth": 2,
            "linecolor": "white",
            "showbackground": true,
            "ticks": "",
            "zerolinecolor": "white"
           },
           "yaxis": {
            "backgroundcolor": "#E5ECF6",
            "gridcolor": "white",
            "gridwidth": 2,
            "linecolor": "white",
            "showbackground": true,
            "ticks": "",
            "zerolinecolor": "white"
           },
           "zaxis": {
            "backgroundcolor": "#E5ECF6",
            "gridcolor": "white",
            "gridwidth": 2,
            "linecolor": "white",
            "showbackground": true,
            "ticks": "",
            "zerolinecolor": "white"
           }
          },
          "shapedefaults": {
           "line": {
            "color": "#2a3f5f"
           }
          },
          "ternary": {
           "aaxis": {
            "gridcolor": "white",
            "linecolor": "white",
            "ticks": ""
           },
           "baxis": {
            "gridcolor": "white",
            "linecolor": "white",
            "ticks": ""
           },
           "bgcolor": "#E5ECF6",
           "caxis": {
            "gridcolor": "white",
            "linecolor": "white",
            "ticks": ""
           }
          },
          "title": {
           "x": 0.05
          },
          "xaxis": {
           "automargin": true,
           "gridcolor": "white",
           "linecolor": "white",
           "ticks": "",
           "title": {
            "standoff": 15
           },
           "zerolinecolor": "white",
           "zerolinewidth": 2
          },
          "yaxis": {
           "automargin": true,
           "gridcolor": "white",
           "linecolor": "white",
           "ticks": "",
           "title": {
            "standoff": 15
           },
           "zerolinecolor": "white",
           "zerolinewidth": 2
          }
         }
        },
        "title": {
         "text": "Selling_Price vs Selling_Price"
        },
        "xaxis": {
         "anchor": "y",
         "domain": [
          0,
          1
         ],
         "title": {
          "text": "Selling_Price"
         }
        },
        "yaxis": {
         "anchor": "x",
         "domain": [
          0,
          1
         ],
         "title": {
          "text": "Selling_Price"
         }
        }
       }
      }
     },
     "metadata": {},
     "output_type": "display_data"
    },
    {
     "data": {
      "application/vnd.plotly.v1+json": {
       "config": {
        "plotlyServerURL": "https://plot.ly"
       },
       "data": [
        {
         "hovertemplate": "Selling_Price=%{x}<br>Present_Price=%{y}<extra></extra>",
         "legendgroup": "",
         "line": {
          "color": "#636efa",
          "dash": "solid"
         },
         "marker": {
          "symbol": "circle"
         },
         "mode": "lines",
         "name": "",
         "orientation": "v",
         "showlegend": false,
         "type": "scatter",
         "x": {
          "bdata": "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",
          "dtype": "f8"
         },
         "xaxis": "x",
         "y": {
          "bdata": "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",
          "dtype": "f8"
         },
         "yaxis": "y"
        }
       ],
       "layout": {
        "legend": {
         "tracegroupgap": 0
        },
        "template": {
         "data": {
          "bar": [
           {
            "error_x": {
             "color": "#2a3f5f"
            },
            "error_y": {
             "color": "#2a3f5f"
            },
            "marker": {
             "line": {
              "color": "#E5ECF6",
              "width": 0.5
             },
             "pattern": {
              "fillmode": "overlay",
              "size": 10,
              "solidity": 0.2
             }
            },
            "type": "bar"
           }
          ],
          "barpolar": [
           {
            "marker": {
             "line": {
              "color": "#E5ECF6",
              "width": 0.5
             },
             "pattern": {
              "fillmode": "overlay",
              "size": 10,
              "solidity": 0.2
             }
            },
            "type": "barpolar"
           }
          ],
          "carpet": [
           {
            "aaxis": {
             "endlinecolor": "#2a3f5f",
             "gridcolor": "white",
             "linecolor": "white",
             "minorgridcolor": "white",
             "startlinecolor": "#2a3f5f"
            },
            "baxis": {
             "endlinecolor": "#2a3f5f",
             "gridcolor": "white",
             "linecolor": "white",
             "minorgridcolor": "white",
             "startlinecolor": "#2a3f5f"
            },
            "type": "carpet"
           }
          ],
          "choropleth": [
           {
            "colorbar": {
             "outlinewidth": 0,
             "ticks": ""
            },
            "type": "choropleth"
           }
          ],
          "contour": [
           {
            "colorbar": {
             "outlinewidth": 0,
             "ticks": ""
            },
            "colorscale": [
             [
              0,
              "#0d0887"
             ],
             [
              0.1111111111111111,
              "#46039f"
             ],
             [
              0.2222222222222222,
              "#7201a8"
             ],
             [
              0.3333333333333333,
              "#9c179e"
             ],
             [
              0.4444444444444444,
              "#bd3786"
             ],
             [
              0.5555555555555556,
              "#d8576b"
             ],
             [
              0.6666666666666666,
              "#ed7953"
             ],
             [
              0.7777777777777778,
              "#fb9f3a"
             ],
             [
              0.8888888888888888,
              "#fdca26"
             ],
             [
              1,
              "#f0f921"
             ]
            ],
            "type": "contour"
           }
          ],
          "contourcarpet": [
           {
            "colorbar": {
             "outlinewidth": 0,
             "ticks": ""
            },
            "type": "contourcarpet"
           }
          ],
          "heatmap": [
           {
            "colorbar": {
             "outlinewidth": 0,
             "ticks": ""
            },
            "colorscale": [
             [
              0,
              "#0d0887"
             ],
             [
              0.1111111111111111,
              "#46039f"
             ],
             [
              0.2222222222222222,
              "#7201a8"
             ],
             [
              0.3333333333333333,
              "#9c179e"
             ],
             [
              0.4444444444444444,
              "#bd3786"
             ],
             [
              0.5555555555555556,
              "#d8576b"
             ],
             [
              0.6666666666666666,
              "#ed7953"
             ],
             [
              0.7777777777777778,
              "#fb9f3a"
             ],
             [
              0.8888888888888888,
              "#fdca26"
             ],
             [
              1,
              "#f0f921"
             ]
            ],
            "type": "heatmap"
           }
          ],
          "histogram": [
           {
            "marker": {
             "pattern": {
              "fillmode": "overlay",
              "size": 10,
              "solidity": 0.2
             }
            },
            "type": "histogram"
           }
          ],
          "histogram2d": [
           {
            "colorbar": {
             "outlinewidth": 0,
             "ticks": ""
            },
            "colorscale": [
             [
              0,
              "#0d0887"
             ],
             [
              0.1111111111111111,
              "#46039f"
             ],
             [
              0.2222222222222222,
              "#7201a8"
             ],
             [
              0.3333333333333333,
              "#9c179e"
             ],
             [
              0.4444444444444444,
              "#bd3786"
             ],
             [
              0.5555555555555556,
              "#d8576b"
             ],
             [
              0.6666666666666666,
              "#ed7953"
             ],
             [
              0.7777777777777778,
              "#fb9f3a"
             ],
             [
              0.8888888888888888,
              "#fdca26"
             ],
             [
              1,
              "#f0f921"
             ]
            ],
            "type": "histogram2d"
           }
          ],
          "histogram2dcontour": [
           {
            "colorbar": {
             "outlinewidth": 0,
             "ticks": ""
            },
            "colorscale": [
             [
              0,
              "#0d0887"
             ],
             [
              0.1111111111111111,
              "#46039f"
             ],
             [
              0.2222222222222222,
              "#7201a8"
             ],
             [
              0.3333333333333333,
              "#9c179e"
             ],
             [
              0.4444444444444444,
              "#bd3786"
             ],
             [
              0.5555555555555556,
              "#d8576b"
             ],
             [
              0.6666666666666666,
              "#ed7953"
             ],
             [
              0.7777777777777778,
              "#fb9f3a"
             ],
             [
              0.8888888888888888,
              "#fdca26"
             ],
             [
              1,
              "#f0f921"
             ]
            ],
            "type": "histogram2dcontour"
           }
          ],
          "mesh3d": [
           {
            "colorbar": {
             "outlinewidth": 0,
             "ticks": ""
            },
            "type": "mesh3d"
           }
          ],
          "parcoords": [
           {
            "line": {
             "colorbar": {
              "outlinewidth": 0,
              "ticks": ""
             }
            },
            "type": "parcoords"
           }
          ],
          "pie": [
           {
            "automargin": true,
            "type": "pie"
           }
          ],
          "scatter": [
           {
            "fillpattern": {
             "fillmode": "overlay",
             "size": 10,
             "solidity": 0.2
            },
            "type": "scatter"
           }
          ],
          "scatter3d": [
           {
            "line": {
             "colorbar": {
              "outlinewidth": 0,
              "ticks": ""
             }
            },
            "marker": {
             "colorbar": {
              "outlinewidth": 0,
              "ticks": ""
             }
            },
            "type": "scatter3d"
           }
          ],
          "scattercarpet": [
           {
            "marker": {
             "colorbar": {
              "outlinewidth": 0,
              "ticks": ""
             }
            },
            "type": "scattercarpet"
           }
          ],
          "scattergeo": [
           {
            "marker": {
             "colorbar": {
              "outlinewidth": 0,
              "ticks": ""
             }
            },
            "type": "scattergeo"
           }
          ],
          "scattergl": [
           {
            "marker": {
             "colorbar": {
              "outlinewidth": 0,
              "ticks": ""
             }
            },
            "type": "scattergl"
           }
          ],
          "scattermap": [
           {
            "marker": {
             "colorbar": {
              "outlinewidth": 0,
              "ticks": ""
             }
            },
            "type": "scattermap"
           }
          ],
          "scattermapbox": [
           {
            "marker": {
             "colorbar": {
              "outlinewidth": 0,
              "ticks": ""
             }
            },
            "type": "scattermapbox"
           }
          ],
          "scatterpolar": [
           {
            "marker": {
             "colorbar": {
              "outlinewidth": 0,
              "ticks": ""
             }
            },
            "type": "scatterpolar"
           }
          ],
          "scatterpolargl": [
           {
            "marker": {
             "colorbar": {
              "outlinewidth": 0,
              "ticks": ""
             }
            },
            "type": "scatterpolargl"
           }
          ],
          "scatterternary": [
           {
            "marker": {
             "colorbar": {
              "outlinewidth": 0,
              "ticks": ""
             }
            },
            "type": "scatterternary"
           }
          ],
          "surface": [
           {
            "colorbar": {
             "outlinewidth": 0,
             "ticks": ""
            },
            "colorscale": [
             [
              0,
              "#0d0887"
             ],
             [
              0.1111111111111111,
              "#46039f"
             ],
             [
              0.2222222222222222,
              "#7201a8"
             ],
             [
              0.3333333333333333,
              "#9c179e"
             ],
             [
              0.4444444444444444,
              "#bd3786"
             ],
             [
              0.5555555555555556,
              "#d8576b"
             ],
             [
              0.6666666666666666,
              "#ed7953"
             ],
             [
              0.7777777777777778,
              "#fb9f3a"
             ],
             [
              0.8888888888888888,
              "#fdca26"
             ],
             [
              1,
              "#f0f921"
             ]
            ],
            "type": "surface"
           }
          ],
          "table": [
           {
            "cells": {
             "fill": {
              "color": "#EBF0F8"
             },
             "line": {
              "color": "white"
             }
            },
            "header": {
             "fill": {
              "color": "#C8D4E3"
             },
             "line": {
              "color": "white"
             }
            },
            "type": "table"
           }
          ]
         },
         "layout": {
          "annotationdefaults": {
           "arrowcolor": "#2a3f5f",
           "arrowhead": 0,
           "arrowwidth": 1
          },
          "autotypenumbers": "strict",
          "coloraxis": {
           "colorbar": {
            "outlinewidth": 0,
            "ticks": ""
           }
          },
          "colorscale": {
           "diverging": [
            [
             0,
             "#8e0152"
            ],
            [
             0.1,
             "#c51b7d"
            ],
            [
             0.2,
             "#de77ae"
            ],
            [
             0.3,
             "#f1b6da"
            ],
            [
             0.4,
             "#fde0ef"
            ],
            [
             0.5,
             "#f7f7f7"
            ],
            [
             0.6,
             "#e6f5d0"
            ],
            [
             0.7,
             "#b8e186"
            ],
            [
             0.8,
             "#7fbc41"
            ],
            [
             0.9,
             "#4d9221"
            ],
            [
             1,
             "#276419"
            ]
           ],
           "sequential": [
            [
             0,
             "#0d0887"
            ],
            [
             0.1111111111111111,
             "#46039f"
            ],
            [
             0.2222222222222222,
             "#7201a8"
            ],
            [
             0.3333333333333333,
             "#9c179e"
            ],
            [
             0.4444444444444444,
             "#bd3786"
            ],
            [
             0.5555555555555556,
             "#d8576b"
            ],
            [
             0.6666666666666666,
             "#ed7953"
            ],
            [
             0.7777777777777778,
             "#fb9f3a"
            ],
            [
             0.8888888888888888,
             "#fdca26"
            ],
            [
             1,
             "#f0f921"
            ]
           ],
           "sequentialminus": [
            [
             0,
             "#0d0887"
            ],
            [
             0.1111111111111111,
             "#46039f"
            ],
            [
             0.2222222222222222,
             "#7201a8"
            ],
            [
             0.3333333333333333,
             "#9c179e"
            ],
            [
             0.4444444444444444,
             "#bd3786"
            ],
            [
             0.5555555555555556,
             "#d8576b"
            ],
            [
             0.6666666666666666,
             "#ed7953"
            ],
            [
             0.7777777777777778,
             "#fb9f3a"
            ],
            [
             0.8888888888888888,
             "#fdca26"
            ],
            [
             1,
             "#f0f921"
            ]
           ]
          },
          "colorway": [
           "#636efa",
           "#EF553B",
           "#00cc96",
           "#ab63fa",
           "#FFA15A",
           "#19d3f3",
           "#FF6692",
           "#B6E880",
           "#FF97FF",
           "#FECB52"
          ],
          "font": {
           "color": "#2a3f5f"
          },
          "geo": {
           "bgcolor": "white",
           "lakecolor": "white",
           "landcolor": "#E5ECF6",
           "showlakes": true,
           "showland": true,
           "subunitcolor": "white"
          },
          "hoverlabel": {
           "align": "left"
          },
          "hovermode": "closest",
          "mapbox": {
           "style": "light"
          },
          "paper_bgcolor": "white",
          "plot_bgcolor": "#E5ECF6",
          "polar": {
           "angularaxis": {
            "gridcolor": "white",
            "linecolor": "white",
            "ticks": ""
           },
           "bgcolor": "#E5ECF6",
           "radialaxis": {
            "gridcolor": "white",
            "linecolor": "white",
            "ticks": ""
           }
          },
          "scene": {
           "xaxis": {
            "backgroundcolor": "#E5ECF6",
            "gridcolor": "white",
            "gridwidth": 2,
            "linecolor": "white",
            "showbackground": true,
            "ticks": "",
            "zerolinecolor": "white"
           },
           "yaxis": {
            "backgroundcolor": "#E5ECF6",
            "gridcolor": "white",
            "gridwidth": 2,
            "linecolor": "white",
            "showbackground": true,
            "ticks": "",
            "zerolinecolor": "white"
           },
           "zaxis": {
            "backgroundcolor": "#E5ECF6",
            "gridcolor": "white",
            "gridwidth": 2,
            "linecolor": "white",
            "showbackground": true,
            "ticks": "",
            "zerolinecolor": "white"
           }
          },
          "shapedefaults": {
           "line": {
            "color": "#2a3f5f"
           }
          },
          "ternary": {
           "aaxis": {
            "gridcolor": "white",
            "linecolor": "white",
            "ticks": ""
           },
           "baxis": {
            "gridcolor": "white",
            "linecolor": "white",
            "ticks": ""
           },
           "bgcolor": "#E5ECF6",
           "caxis": {
            "gridcolor": "white",
            "linecolor": "white",
            "ticks": ""
           }
          },
          "title": {
           "x": 0.05
          },
          "xaxis": {
           "automargin": true,
           "gridcolor": "white",
           "linecolor": "white",
           "ticks": "",
           "title": {
            "standoff": 15
           },
           "zerolinecolor": "white",
           "zerolinewidth": 2
          },
          "yaxis": {
           "automargin": true,
           "gridcolor": "white",
           "linecolor": "white",
           "ticks": "",
           "title": {
            "standoff": 15
           },
           "zerolinecolor": "white",
           "zerolinewidth": 2
          }
         }
        },
        "title": {
         "text": "Selling_Price vs Present_Price"
        },
        "xaxis": {
         "anchor": "y",
         "domain": [
          0,
          1
         ],
         "title": {
          "text": "Selling_Price"
         }
        },
        "yaxis": {
         "anchor": "x",
         "domain": [
          0,
          1
         ],
         "title": {
          "text": "Present_Price"
         }
        }
       }
      }
     },
     "metadata": {},
     "output_type": "display_data"
    },
    {
     "data": {
      "application/vnd.plotly.v1+json": {
       "config": {
        "plotlyServerURL": "https://plot.ly"
       },
       "data": [
        {
         "hovertemplate": "Selling_Price=%{x}<br>Driven_kms=%{y}<extra></extra>",
         "legendgroup": "",
         "line": {
          "color": "#636efa",
          "dash": "solid"
         },
         "marker": {
          "symbol": "circle"
         },
         "mode": "lines",
         "name": "",
         "orientation": "v",
         "showlegend": false,
         "type": "scatter",
         "x": {
          "bdata": "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",
          "dtype": "f8"
         },
         "xaxis": "x",
         "y": {
          "bdata": "SWgBAAjPAAC4iAAA6IAAACChBwC4iAAAYOoAAKhhAADY1gAAaL8AAFDDAADAXQAAAH0AAFBGAADwVQAAkGUAAGwHAAAIUgAAMHUAAFDDAABg6gAACEADAMBdAAA4SgAAGPABADB1AADIlgAA+CQBALA2AAB8FQAAhDUAACwaAAAUBQAA4C4AABCkAADAXQAApDgAAKAPAACwNgAA9AEAAOgDAAB4aQAA2FkAAJghAADYWQAAmDoAAMwQAABAHwAAyK8AAMgyAABwFwAAGHkAAMBdAADIrwAAmDoAAJDiAACoYQAASHEAACBOAAAAfQAA2EAAAJg6AACoYQAAOEoAAIA+AADMWwAAiBMAABguAAD0AQAAUEYAAFgbAACsDQAA+CoAAIgTAAC4CwAAQJwAABQFAADsLAAApLUAAOj9AABEFgAA9BoAABgVAABwFwAA6IAAALA2AACQZQAAXEQAAPwhAABYGwAAuIgAAGhCAABwFwAAUEYAAPgqAABQwwAAmDoAAHRAAAAEEAAAxFQAALAEAADyDwIAoA8AAHgFAAC4CwAA/q0AAJDiAACdXAAAGMUAAHMuAQAT7wAAMPIAALjTAADgsAAAsCoCAHK2AACo3gAAFPwAAPinAADioQAA9VcAAJBfAQB6bgAAUBQAAKhhAABXCAAAL94AANQwAAB0ewAATsMAANTQAABfJwAAIE4AAKvRAAC6DwEAv4sAAO/IAACkywAASS4AAJg6AABwlAAAkOIAAKyKAAB+VwEAeGkAAJi3AAA4AgMASCYAAFiWAAD4JAEAcBEBALiIAAD7gAAAuIgAADDyAADWjAAACM8AAKCMAABYFQEAWpwAAFecAABg6gAAqFsBADB1AADdDgEAPZoAAGLXAADAVwEAKG4AANCEAABQwwAAjJ4AAMivAAAEjQAAoIwAADhKAAAAfQAAVp4AANKlAAB/vgAAUMMAABqMAAD4pwAAyK8AAECcAABAnAAAUesAADhKAACFUgAAYAkAADhEAQBYmAAAYOoAAH3dAABmjQAA7YcAAFgVAQDi0wAAgDgBAGhCAACBOAAAZmAAAJJOAAClDQAAWBUAAHRAAABCfgAAw3oAAMN6AABAGQEA4BUAAIwRAADIrwAA1LIAAJlvAAC/MAAA4KsAAA5lAADMXwAAQBkBAMDaAABovwAAoIwAAEAvAQDIrwAASD8AAKAPAACQZQAAyK8AAL6cAABYGwAA4C4AABawAADQUgAAlYIAAII+AACMSQAAbEkAADjHAABBnAAAyK8AAIC7AAD0GgAAzqIAANM6AADB2gAAyK8AAH+lAACYOgAA0GsAAJg6AACIkAAA+KcAAGsNAADF7wAAGPYAAOpLAACoYQAA0IQAAISdAACs6gAA4GAAADFPAAAyIwAAJTsAACdyAACZOgAAFwgAAHjmAADEhAAAaMMAABRVAADkKgAAmsEAACF4AACC4wAAoAkBAI9YAABkMgAAKCMAAA+qAABwlAAAXowAAOAuAACoWwEA2FkAAAOZAQBYDwIA/CEAAJg6AACwMAEA+CoAACigAABIcQAAmDoAAECcAACYtwAAcBcAALAwAQA=",
          "dtype": "i4"
         },
         "yaxis": "y"
        }
       ],
       "layout": {
        "legend": {
         "tracegroupgap": 0
        },
        "template": {
         "data": {
          "bar": [
           {
            "error_x": {
             "color": "#2a3f5f"
            },
            "error_y": {
             "color": "#2a3f5f"
            },
            "marker": {
             "line": {
              "color": "#E5ECF6",
              "width": 0.5
             },
             "pattern": {
              "fillmode": "overlay",
              "size": 10,
              "solidity": 0.2
             }
            },
            "type": "bar"
           }
          ],
          "barpolar": [
           {
            "marker": {
             "line": {
              "color": "#E5ECF6",
              "width": 0.5
             },
             "pattern": {
              "fillmode": "overlay",
              "size": 10,
              "solidity": 0.2
             }
            },
            "type": "barpolar"
           }
          ],
          "carpet": [
           {
            "aaxis": {
             "endlinecolor": "#2a3f5f",
             "gridcolor": "white",
             "linecolor": "white",
             "minorgridcolor": "white",
             "startlinecolor": "#2a3f5f"
            },
            "baxis": {
             "endlinecolor": "#2a3f5f",
             "gridcolor": "white",
             "linecolor": "white",
             "minorgridcolor": "white",
             "startlinecolor": "#2a3f5f"
            },
            "type": "carpet"
           }
          ],
          "choropleth": [
           {
            "colorbar": {
             "outlinewidth": 0,
             "ticks": ""
            },
            "type": "choropleth"
           }
          ],
          "contour": [
           {
            "colorbar": {
             "outlinewidth": 0,
             "ticks": ""
            },
            "colorscale": [
             [
              0,
              "#0d0887"
             ],
             [
              0.1111111111111111,
              "#46039f"
             ],
             [
              0.2222222222222222,
              "#7201a8"
             ],
             [
              0.3333333333333333,
              "#9c179e"
             ],
             [
              0.4444444444444444,
              "#bd3786"
             ],
             [
              0.5555555555555556,
              "#d8576b"
             ],
             [
              0.6666666666666666,
              "#ed7953"
             ],
             [
              0.7777777777777778,
              "#fb9f3a"
             ],
             [
              0.8888888888888888,
              "#fdca26"
             ],
             [
              1,
              "#f0f921"
             ]
            ],
            "type": "contour"
           }
          ],
          "contourcarpet": [
           {
            "colorbar": {
             "outlinewidth": 0,
             "ticks": ""
            },
            "type": "contourcarpet"
           }
          ],
          "heatmap": [
           {
            "colorbar": {
             "outlinewidth": 0,
             "ticks": ""
            },
            "colorscale": [
             [
              0,
              "#0d0887"
             ],
             [
              0.1111111111111111,
              "#46039f"
             ],
             [
              0.2222222222222222,
              "#7201a8"
             ],
             [
              0.3333333333333333,
              "#9c179e"
             ],
             [
              0.4444444444444444,
              "#bd3786"
             ],
             [
              0.5555555555555556,
              "#d8576b"
             ],
             [
              0.6666666666666666,
              "#ed7953"
             ],
             [
              0.7777777777777778,
              "#fb9f3a"
             ],
             [
              0.8888888888888888,
              "#fdca26"
             ],
             [
              1,
              "#f0f921"
             ]
            ],
            "type": "heatmap"
           }
          ],
          "histogram": [
           {
            "marker": {
             "pattern": {
              "fillmode": "overlay",
              "size": 10,
              "solidity": 0.2
             }
            },
            "type": "histogram"
           }
          ],
          "histogram2d": [
           {
            "colorbar": {
             "outlinewidth": 0,
             "ticks": ""
            },
            "colorscale": [
             [
              0,
              "#0d0887"
             ],
             [
              0.1111111111111111,
              "#46039f"
             ],
             [
              0.2222222222222222,
              "#7201a8"
             ],
             [
              0.3333333333333333,
              "#9c179e"
             ],
             [
              0.4444444444444444,
              "#bd3786"
             ],
             [
              0.5555555555555556,
              "#d8576b"
             ],
             [
              0.6666666666666666,
              "#ed7953"
             ],
             [
              0.7777777777777778,
              "#fb9f3a"
             ],
             [
              0.8888888888888888,
              "#fdca26"
             ],
             [
              1,
              "#f0f921"
             ]
            ],
            "type": "histogram2d"
           }
          ],
          "histogram2dcontour": [
           {
            "colorbar": {
             "outlinewidth": 0,
             "ticks": ""
            },
            "colorscale": [
             [
              0,
              "#0d0887"
             ],
             [
              0.1111111111111111,
              "#46039f"
             ],
             [
              0.2222222222222222,
              "#7201a8"
             ],
             [
              0.3333333333333333,
              "#9c179e"
             ],
             [
              0.4444444444444444,
              "#bd3786"
             ],
             [
              0.5555555555555556,
              "#d8576b"
             ],
             [
              0.6666666666666666,
              "#ed7953"
             ],
             [
              0.7777777777777778,
              "#fb9f3a"
             ],
             [
              0.8888888888888888,
              "#fdca26"
             ],
             [
              1,
              "#f0f921"
             ]
            ],
            "type": "histogram2dcontour"
           }
          ],
          "mesh3d": [
           {
            "colorbar": {
             "outlinewidth": 0,
             "ticks": ""
            },
            "type": "mesh3d"
           }
          ],
          "parcoords": [
           {
            "line": {
             "colorbar": {
              "outlinewidth": 0,
              "ticks": ""
             }
            },
            "type": "parcoords"
           }
          ],
          "pie": [
           {
            "automargin": true,
            "type": "pie"
           }
          ],
          "scatter": [
           {
            "fillpattern": {
             "fillmode": "overlay",
             "size": 10,
             "solidity": 0.2
            },
            "type": "scatter"
           }
          ],
          "scatter3d": [
           {
            "line": {
             "colorbar": {
              "outlinewidth": 0,
              "ticks": ""
             }
            },
            "marker": {
             "colorbar": {
              "outlinewidth": 0,
              "ticks": ""
             }
            },
            "type": "scatter3d"
           }
          ],
          "scattercarpet": [
           {
            "marker": {
             "colorbar": {
              "outlinewidth": 0,
              "ticks": ""
             }
            },
            "type": "scattercarpet"
           }
          ],
          "scattergeo": [
           {
            "marker": {
             "colorbar": {
              "outlinewidth": 0,
              "ticks": ""
             }
            },
            "type": "scattergeo"
           }
          ],
          "scattergl": [
           {
            "marker": {
             "colorbar": {
              "outlinewidth": 0,
              "ticks": ""
             }
            },
            "type": "scattergl"
           }
          ],
          "scattermap": [
           {
            "marker": {
             "colorbar": {
              "outlinewidth": 0,
              "ticks": ""
             }
            },
            "type": "scattermap"
           }
          ],
          "scattermapbox": [
           {
            "marker": {
             "colorbar": {
              "outlinewidth": 0,
              "ticks": ""
             }
            },
            "type": "scattermapbox"
           }
          ],
          "scatterpolar": [
           {
            "marker": {
             "colorbar": {
              "outlinewidth": 0,
              "ticks": ""
             }
            },
            "type": "scatterpolar"
           }
          ],
          "scatterpolargl": [
           {
            "marker": {
             "colorbar": {
              "outlinewidth": 0,
              "ticks": ""
             }
            },
            "type": "scatterpolargl"
           }
          ],
          "scatterternary": [
           {
            "marker": {
             "colorbar": {
              "outlinewidth": 0,
              "ticks": ""
             }
            },
            "type": "scatterternary"
           }
          ],
          "surface": [
           {
            "colorbar": {
             "outlinewidth": 0,
             "ticks": ""
            },
            "colorscale": [
             [
              0,
              "#0d0887"
             ],
             [
              0.1111111111111111,
              "#46039f"
             ],
             [
              0.2222222222222222,
              "#7201a8"
             ],
             [
              0.3333333333333333,
              "#9c179e"
             ],
             [
              0.4444444444444444,
              "#bd3786"
             ],
             [
              0.5555555555555556,
              "#d8576b"
             ],
             [
              0.6666666666666666,
              "#ed7953"
             ],
             [
              0.7777777777777778,
              "#fb9f3a"
             ],
             [
              0.8888888888888888,
              "#fdca26"
             ],
             [
              1,
              "#f0f921"
             ]
            ],
            "type": "surface"
           }
          ],
          "table": [
           {
            "cells": {
             "fill": {
              "color": "#EBF0F8"
             },
             "line": {
              "color": "white"
             }
            },
            "header": {
             "fill": {
              "color": "#C8D4E3"
             },
             "line": {
              "color": "white"
             }
            },
            "type": "table"
           }
          ]
         },
         "layout": {
          "annotationdefaults": {
           "arrowcolor": "#2a3f5f",
           "arrowhead": 0,
           "arrowwidth": 1
          },
          "autotypenumbers": "strict",
          "coloraxis": {
           "colorbar": {
            "outlinewidth": 0,
            "ticks": ""
           }
          },
          "colorscale": {
           "diverging": [
            [
             0,
             "#8e0152"
            ],
            [
             0.1,
             "#c51b7d"
            ],
            [
             0.2,
             "#de77ae"
            ],
            [
             0.3,
             "#f1b6da"
            ],
            [
             0.4,
             "#fde0ef"
            ],
            [
             0.5,
             "#f7f7f7"
            ],
            [
             0.6,
             "#e6f5d0"
            ],
            [
             0.7,
             "#b8e186"
            ],
            [
             0.8,
             "#7fbc41"
            ],
            [
             0.9,
             "#4d9221"
            ],
            [
             1,
             "#276419"
            ]
           ],
           "sequential": [
            [
             0,
             "#0d0887"
            ],
            [
             0.1111111111111111,
             "#46039f"
            ],
            [
             0.2222222222222222,
             "#7201a8"
            ],
            [
             0.3333333333333333,
             "#9c179e"
            ],
            [
             0.4444444444444444,
             "#bd3786"
            ],
            [
             0.5555555555555556,
             "#d8576b"
            ],
            [
             0.6666666666666666,
             "#ed7953"
            ],
            [
             0.7777777777777778,
             "#fb9f3a"
            ],
            [
             0.8888888888888888,
             "#fdca26"
            ],
            [
             1,
             "#f0f921"
            ]
           ],
           "sequentialminus": [
            [
             0,
             "#0d0887"
            ],
            [
             0.1111111111111111,
             "#46039f"
            ],
            [
             0.2222222222222222,
             "#7201a8"
            ],
            [
             0.3333333333333333,
             "#9c179e"
            ],
            [
             0.4444444444444444,
             "#bd3786"
            ],
            [
             0.5555555555555556,
             "#d8576b"
            ],
            [
             0.6666666666666666,
             "#ed7953"
            ],
            [
             0.7777777777777778,
             "#fb9f3a"
            ],
            [
             0.8888888888888888,
             "#fdca26"
            ],
            [
             1,
             "#f0f921"
            ]
           ]
          },
          "colorway": [
           "#636efa",
           "#EF553B",
           "#00cc96",
           "#ab63fa",
           "#FFA15A",
           "#19d3f3",
           "#FF6692",
           "#B6E880",
           "#FF97FF",
           "#FECB52"
          ],
          "font": {
           "color": "#2a3f5f"
          },
          "geo": {
           "bgcolor": "white",
           "lakecolor": "white",
           "landcolor": "#E5ECF6",
           "showlakes": true,
           "showland": true,
           "subunitcolor": "white"
          },
          "hoverlabel": {
           "align": "left"
          },
          "hovermode": "closest",
          "mapbox": {
           "style": "light"
          },
          "paper_bgcolor": "white",
          "plot_bgcolor": "#E5ECF6",
          "polar": {
           "angularaxis": {
            "gridcolor": "white",
            "linecolor": "white",
            "ticks": ""
           },
           "bgcolor": "#E5ECF6",
           "radialaxis": {
            "gridcolor": "white",
            "linecolor": "white",
            "ticks": ""
           }
          },
          "scene": {
           "xaxis": {
            "backgroundcolor": "#E5ECF6",
            "gridcolor": "white",
            "gridwidth": 2,
            "linecolor": "white",
            "showbackground": true,
            "ticks": "",
            "zerolinecolor": "white"
           },
           "yaxis": {
            "backgroundcolor": "#E5ECF6",
            "gridcolor": "white",
            "gridwidth": 2,
            "linecolor": "white",
            "showbackground": true,
            "ticks": "",
            "zerolinecolor": "white"
           },
           "zaxis": {
            "backgroundcolor": "#E5ECF6",
            "gridcolor": "white",
            "gridwidth": 2,
            "linecolor": "white",
            "showbackground": true,
            "ticks": "",
            "zerolinecolor": "white"
           }
          },
          "shapedefaults": {
           "line": {
            "color": "#2a3f5f"
           }
          },
          "ternary": {
           "aaxis": {
            "gridcolor": "white",
            "linecolor": "white",
            "ticks": ""
           },
           "baxis": {
            "gridcolor": "white",
            "linecolor": "white",
            "ticks": ""
           },
           "bgcolor": "#E5ECF6",
           "caxis": {
            "gridcolor": "white",
            "linecolor": "white",
            "ticks": ""
           }
          },
          "title": {
           "x": 0.05
          },
          "xaxis": {
           "automargin": true,
           "gridcolor": "white",
           "linecolor": "white",
           "ticks": "",
           "title": {
            "standoff": 15
           },
           "zerolinecolor": "white",
           "zerolinewidth": 2
          },
          "yaxis": {
           "automargin": true,
           "gridcolor": "white",
           "linecolor": "white",
           "ticks": "",
           "title": {
            "standoff": 15
           },
           "zerolinecolor": "white",
           "zerolinewidth": 2
          }
         }
        },
        "title": {
         "text": "Selling_Price vs Driven_kms"
        },
        "xaxis": {
         "anchor": "y",
         "domain": [
          0,
          1
         ],
         "title": {
          "text": "Selling_Price"
         }
        },
        "yaxis": {
         "anchor": "x",
         "domain": [
          0,
          1
         ],
         "title": {
          "text": "Driven_kms"
         }
        }
       }
      }
     },
     "metadata": {},
     "output_type": "display_data"
    },
    {
     "data": {
      "application/vnd.plotly.v1+json": {
       "config": {
        "plotlyServerURL": "https://plot.ly"
       },
       "data": [
        {
         "hovertemplate": "Selling_Price=%{x}<br>Owner=%{y}<extra></extra>",
         "legendgroup": "",
         "line": {
          "color": "#636efa",
          "dash": "solid"
         },
         "marker": {
          "symbol": "circle"
         },
         "mode": "lines",
         "name": "",
         "orientation": "v",
         "showlegend": false,
         "type": "scatter",
         "x": {
          "bdata": "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",
          "dtype": "f8"
         },
         "xaxis": "x",
         "y": {
          "bdata": "AAABAAAAAAEAAQABAAAAAQAAAAAAAAAAAAAAAAAAAAAAAAAAAAAAAAAAAAAAAAAAAAAAAAAAAAAAAAAAAAAAAAAAAAAAAAAAAAAAAAAAAAAAAAAAAAAAAAAAAAAAAAAAAAEAAAAAAAAAAAAAAAAAAAAAAwAAAAAAAAAAAAAAAAAAAAAAAAAAAAAAAAAAAQAAAAAAAAAAAAAAAAAAAAAAAAAAAAAAAQAAAAAAAAAAAAAAAAAAAAEAAAAAAAAAAAAAAAAAAAAAAAAAAAABAAAAAAAAAAAAAAAAAAAAAAAAAAAAAAAAAAAAAAAAAAAAAAAAAAAAAAAAAAAAAAAAAAAAAAAAAAAAAAAAAAAAAAAAAAAAAAAAAAAAAAAAAAAAAAAAAAAAAAAAAAAAAAA=",
          "dtype": "i1"
         },
         "yaxis": "y"
        }
       ],
       "layout": {
        "legend": {
         "tracegroupgap": 0
        },
        "template": {
         "data": {
          "bar": [
           {
            "error_x": {
             "color": "#2a3f5f"
            },
            "error_y": {
             "color": "#2a3f5f"
            },
            "marker": {
             "line": {
              "color": "#E5ECF6",
              "width": 0.5
             },
             "pattern": {
              "fillmode": "overlay",
              "size": 10,
              "solidity": 0.2
             }
            },
            "type": "bar"
           }
          ],
          "barpolar": [
           {
            "marker": {
             "line": {
              "color": "#E5ECF6",
              "width": 0.5
             },
             "pattern": {
              "fillmode": "overlay",
              "size": 10,
              "solidity": 0.2
             }
            },
            "type": "barpolar"
           }
          ],
          "carpet": [
           {
            "aaxis": {
             "endlinecolor": "#2a3f5f",
             "gridcolor": "white",
             "linecolor": "white",
             "minorgridcolor": "white",
             "startlinecolor": "#2a3f5f"
            },
            "baxis": {
             "endlinecolor": "#2a3f5f",
             "gridcolor": "white",
             "linecolor": "white",
             "minorgridcolor": "white",
             "startlinecolor": "#2a3f5f"
            },
            "type": "carpet"
           }
          ],
          "choropleth": [
           {
            "colorbar": {
             "outlinewidth": 0,
             "ticks": ""
            },
            "type": "choropleth"
           }
          ],
          "contour": [
           {
            "colorbar": {
             "outlinewidth": 0,
             "ticks": ""
            },
            "colorscale": [
             [
              0,
              "#0d0887"
             ],
             [
              0.1111111111111111,
              "#46039f"
             ],
             [
              0.2222222222222222,
              "#7201a8"
             ],
             [
              0.3333333333333333,
              "#9c179e"
             ],
             [
              0.4444444444444444,
              "#bd3786"
             ],
             [
              0.5555555555555556,
              "#d8576b"
             ],
             [
              0.6666666666666666,
              "#ed7953"
             ],
             [
              0.7777777777777778,
              "#fb9f3a"
             ],
             [
              0.8888888888888888,
              "#fdca26"
             ],
             [
              1,
              "#f0f921"
             ]
            ],
            "type": "contour"
           }
          ],
          "contourcarpet": [
           {
            "colorbar": {
             "outlinewidth": 0,
             "ticks": ""
            },
            "type": "contourcarpet"
           }
          ],
          "heatmap": [
           {
            "colorbar": {
             "outlinewidth": 0,
             "ticks": ""
            },
            "colorscale": [
             [
              0,
              "#0d0887"
             ],
             [
              0.1111111111111111,
              "#46039f"
             ],
             [
              0.2222222222222222,
              "#7201a8"
             ],
             [
              0.3333333333333333,
              "#9c179e"
             ],
             [
              0.4444444444444444,
              "#bd3786"
             ],
             [
              0.5555555555555556,
              "#d8576b"
             ],
             [
              0.6666666666666666,
              "#ed7953"
             ],
             [
              0.7777777777777778,
              "#fb9f3a"
             ],
             [
              0.8888888888888888,
              "#fdca26"
             ],
             [
              1,
              "#f0f921"
             ]
            ],
            "type": "heatmap"
           }
          ],
          "histogram": [
           {
            "marker": {
             "pattern": {
              "fillmode": "overlay",
              "size": 10,
              "solidity": 0.2
             }
            },
            "type": "histogram"
           }
          ],
          "histogram2d": [
           {
            "colorbar": {
             "outlinewidth": 0,
             "ticks": ""
            },
            "colorscale": [
             [
              0,
              "#0d0887"
             ],
             [
              0.1111111111111111,
              "#46039f"
             ],
             [
              0.2222222222222222,
              "#7201a8"
             ],
             [
              0.3333333333333333,
              "#9c179e"
             ],
             [
              0.4444444444444444,
              "#bd3786"
             ],
             [
              0.5555555555555556,
              "#d8576b"
             ],
             [
              0.6666666666666666,
              "#ed7953"
             ],
             [
              0.7777777777777778,
              "#fb9f3a"
             ],
             [
              0.8888888888888888,
              "#fdca26"
             ],
             [
              1,
              "#f0f921"
             ]
            ],
            "type": "histogram2d"
           }
          ],
          "histogram2dcontour": [
           {
            "colorbar": {
             "outlinewidth": 0,
             "ticks": ""
            },
            "colorscale": [
             [
              0,
              "#0d0887"
             ],
             [
              0.1111111111111111,
              "#46039f"
             ],
             [
              0.2222222222222222,
              "#7201a8"
             ],
             [
              0.3333333333333333,
              "#9c179e"
             ],
             [
              0.4444444444444444,
              "#bd3786"
             ],
             [
              0.5555555555555556,
              "#d8576b"
             ],
             [
              0.6666666666666666,
              "#ed7953"
             ],
             [
              0.7777777777777778,
              "#fb9f3a"
             ],
             [
              0.8888888888888888,
              "#fdca26"
             ],
             [
              1,
              "#f0f921"
             ]
            ],
            "type": "histogram2dcontour"
           }
          ],
          "mesh3d": [
           {
            "colorbar": {
             "outlinewidth": 0,
             "ticks": ""
            },
            "type": "mesh3d"
           }
          ],
          "parcoords": [
           {
            "line": {
             "colorbar": {
              "outlinewidth": 0,
              "ticks": ""
             }
            },
            "type": "parcoords"
           }
          ],
          "pie": [
           {
            "automargin": true,
            "type": "pie"
           }
          ],
          "scatter": [
           {
            "fillpattern": {
             "fillmode": "overlay",
             "size": 10,
             "solidity": 0.2
            },
            "type": "scatter"
           }
          ],
          "scatter3d": [
           {
            "line": {
             "colorbar": {
              "outlinewidth": 0,
              "ticks": ""
             }
            },
            "marker": {
             "colorbar": {
              "outlinewidth": 0,
              "ticks": ""
             }
            },
            "type": "scatter3d"
           }
          ],
          "scattercarpet": [
           {
            "marker": {
             "colorbar": {
              "outlinewidth": 0,
              "ticks": ""
             }
            },
            "type": "scattercarpet"
           }
          ],
          "scattergeo": [
           {
            "marker": {
             "colorbar": {
              "outlinewidth": 0,
              "ticks": ""
             }
            },
            "type": "scattergeo"
           }
          ],
          "scattergl": [
           {
            "marker": {
             "colorbar": {
              "outlinewidth": 0,
              "ticks": ""
             }
            },
            "type": "scattergl"
           }
          ],
          "scattermap": [
           {
            "marker": {
             "colorbar": {
              "outlinewidth": 0,
              "ticks": ""
             }
            },
            "type": "scattermap"
           }
          ],
          "scattermapbox": [
           {
            "marker": {
             "colorbar": {
              "outlinewidth": 0,
              "ticks": ""
             }
            },
            "type": "scattermapbox"
           }
          ],
          "scatterpolar": [
           {
            "marker": {
             "colorbar": {
              "outlinewidth": 0,
              "ticks": ""
             }
            },
            "type": "scatterpolar"
           }
          ],
          "scatterpolargl": [
           {
            "marker": {
             "colorbar": {
              "outlinewidth": 0,
              "ticks": ""
             }
            },
            "type": "scatterpolargl"
           }
          ],
          "scatterternary": [
           {
            "marker": {
             "colorbar": {
              "outlinewidth": 0,
              "ticks": ""
             }
            },
            "type": "scatterternary"
           }
          ],
          "surface": [
           {
            "colorbar": {
             "outlinewidth": 0,
             "ticks": ""
            },
            "colorscale": [
             [
              0,
              "#0d0887"
             ],
             [
              0.1111111111111111,
              "#46039f"
             ],
             [
              0.2222222222222222,
              "#7201a8"
             ],
             [
              0.3333333333333333,
              "#9c179e"
             ],
             [
              0.4444444444444444,
              "#bd3786"
             ],
             [
              0.5555555555555556,
              "#d8576b"
             ],
             [
              0.6666666666666666,
              "#ed7953"
             ],
             [
              0.7777777777777778,
              "#fb9f3a"
             ],
             [
              0.8888888888888888,
              "#fdca26"
             ],
             [
              1,
              "#f0f921"
             ]
            ],
            "type": "surface"
           }
          ],
          "table": [
           {
            "cells": {
             "fill": {
              "color": "#EBF0F8"
             },
             "line": {
              "color": "white"
             }
            },
            "header": {
             "fill": {
              "color": "#C8D4E3"
             },
             "line": {
              "color": "white"
             }
            },
            "type": "table"
           }
          ]
         },
         "layout": {
          "annotationdefaults": {
           "arrowcolor": "#2a3f5f",
           "arrowhead": 0,
           "arrowwidth": 1
          },
          "autotypenumbers": "strict",
          "coloraxis": {
           "colorbar": {
            "outlinewidth": 0,
            "ticks": ""
           }
          },
          "colorscale": {
           "diverging": [
            [
             0,
             "#8e0152"
            ],
            [
             0.1,
             "#c51b7d"
            ],
            [
             0.2,
             "#de77ae"
            ],
            [
             0.3,
             "#f1b6da"
            ],
            [
             0.4,
             "#fde0ef"
            ],
            [
             0.5,
             "#f7f7f7"
            ],
            [
             0.6,
             "#e6f5d0"
            ],
            [
             0.7,
             "#b8e186"
            ],
            [
             0.8,
             "#7fbc41"
            ],
            [
             0.9,
             "#4d9221"
            ],
            [
             1,
             "#276419"
            ]
           ],
           "sequential": [
            [
             0,
             "#0d0887"
            ],
            [
             0.1111111111111111,
             "#46039f"
            ],
            [
             0.2222222222222222,
             "#7201a8"
            ],
            [
             0.3333333333333333,
             "#9c179e"
            ],
            [
             0.4444444444444444,
             "#bd3786"
            ],
            [
             0.5555555555555556,
             "#d8576b"
            ],
            [
             0.6666666666666666,
             "#ed7953"
            ],
            [
             0.7777777777777778,
             "#fb9f3a"
            ],
            [
             0.8888888888888888,
             "#fdca26"
            ],
            [
             1,
             "#f0f921"
            ]
           ],
           "sequentialminus": [
            [
             0,
             "#0d0887"
            ],
            [
             0.1111111111111111,
             "#46039f"
            ],
            [
             0.2222222222222222,
             "#7201a8"
            ],
            [
             0.3333333333333333,
             "#9c179e"
            ],
            [
             0.4444444444444444,
             "#bd3786"
            ],
            [
             0.5555555555555556,
             "#d8576b"
            ],
            [
             0.6666666666666666,
             "#ed7953"
            ],
            [
             0.7777777777777778,
             "#fb9f3a"
            ],
            [
             0.8888888888888888,
             "#fdca26"
            ],
            [
             1,
             "#f0f921"
            ]
           ]
          },
          "colorway": [
           "#636efa",
           "#EF553B",
           "#00cc96",
           "#ab63fa",
           "#FFA15A",
           "#19d3f3",
           "#FF6692",
           "#B6E880",
           "#FF97FF",
           "#FECB52"
          ],
          "font": {
           "color": "#2a3f5f"
          },
          "geo": {
           "bgcolor": "white",
           "lakecolor": "white",
           "landcolor": "#E5ECF6",
           "showlakes": true,
           "showland": true,
           "subunitcolor": "white"
          },
          "hoverlabel": {
           "align": "left"
          },
          "hovermode": "closest",
          "mapbox": {
           "style": "light"
          },
          "paper_bgcolor": "white",
          "plot_bgcolor": "#E5ECF6",
          "polar": {
           "angularaxis": {
            "gridcolor": "white",
            "linecolor": "white",
            "ticks": ""
           },
           "bgcolor": "#E5ECF6",
           "radialaxis": {
            "gridcolor": "white",
            "linecolor": "white",
            "ticks": ""
           }
          },
          "scene": {
           "xaxis": {
            "backgroundcolor": "#E5ECF6",
            "gridcolor": "white",
            "gridwidth": 2,
            "linecolor": "white",
            "showbackground": true,
            "ticks": "",
            "zerolinecolor": "white"
           },
           "yaxis": {
            "backgroundcolor": "#E5ECF6",
            "gridcolor": "white",
            "gridwidth": 2,
            "linecolor": "white",
            "showbackground": true,
            "ticks": "",
            "zerolinecolor": "white"
           },
           "zaxis": {
            "backgroundcolor": "#E5ECF6",
            "gridcolor": "white",
            "gridwidth": 2,
            "linecolor": "white",
            "showbackground": true,
            "ticks": "",
            "zerolinecolor": "white"
           }
          },
          "shapedefaults": {
           "line": {
            "color": "#2a3f5f"
           }
          },
          "ternary": {
           "aaxis": {
            "gridcolor": "white",
            "linecolor": "white",
            "ticks": ""
           },
           "baxis": {
            "gridcolor": "white",
            "linecolor": "white",
            "ticks": ""
           },
           "bgcolor": "#E5ECF6",
           "caxis": {
            "gridcolor": "white",
            "linecolor": "white",
            "ticks": ""
           }
          },
          "title": {
           "x": 0.05
          },
          "xaxis": {
           "automargin": true,
           "gridcolor": "white",
           "linecolor": "white",
           "ticks": "",
           "title": {
            "standoff": 15
           },
           "zerolinecolor": "white",
           "zerolinewidth": 2
          },
          "yaxis": {
           "automargin": true,
           "gridcolor": "white",
           "linecolor": "white",
           "ticks": "",
           "title": {
            "standoff": 15
           },
           "zerolinecolor": "white",
           "zerolinewidth": 2
          }
         }
        },
        "title": {
         "text": "Selling_Price vs Owner"
        },
        "xaxis": {
         "anchor": "y",
         "domain": [
          0,
          1
         ],
         "title": {
          "text": "Selling_Price"
         }
        },
        "yaxis": {
         "anchor": "x",
         "domain": [
          0,
          1
         ],
         "title": {
          "text": "Owner"
         }
        }
       }
      }
     },
     "metadata": {},
     "output_type": "display_data"
    }
   ],
   "source": [
    "for col in numerical_features.columns:\n",
    "\n",
    "    fig = px.line(df.sort_values('Selling_Price'), x='Selling_Price', y=col, title=f'Selling_Price vs {col}')\n",
    "    fig.show()"
   ]
  },
  {
   "cell_type": "markdown",
   "metadata": {},
   "source": [
    "В идеальном случае звисимость таргетной переменной от признаков должна быть представлена в виде белого шума.\\\n",
    "Распределение всех числовых признаков кроме Present_Price не имеют явной линейной зависимости. Зависимость от Present_Price имеет видимую корреляцию, что было также отмечено из корреляционной матрицы"
   ]
  },
  {
   "cell_type": "markdown",
   "metadata": {},
   "source": [
    "- Создадим дополнительные признаки на основе комбинаций существующих с учетом взаимодействия между ними/\n",
    "Это поможет учитывать нелинейные зависимости и сделает признаки \"более общими\" (особенно актуально для временных признаков)\n",
    "Т.к. в нашем датасете 9 признаков, создание только новых не поможет в классификации, они будут коррелировать с уже имеющимися. "
   ]
  },
  {
   "cell_type": "code",
   "execution_count": 92,
   "metadata": {},
   "outputs": [
    {
     "name": "stderr",
     "output_type": "stream",
     "text": [
      "/var/folders/3f/x14h836923j7lv3kqcc_d9gc0000gn/T/ipykernel_19007/1703113978.py:2: SettingWithCopyWarning:\n",
      "\n",
      "\n",
      "A value is trying to be set on a copy of a slice from a DataFrame.\n",
      "Try using .loc[row_indexer,col_indexer] = value instead\n",
      "\n",
      "See the caveats in the documentation: https://pandas.pydata.org/pandas-docs/stable/user_guide/indexing.html#returning-a-view-versus-a-copy\n",
      "\n",
      "/var/folders/3f/x14h836923j7lv3kqcc_d9gc0000gn/T/ipykernel_19007/1703113978.py:4: SettingWithCopyWarning:\n",
      "\n",
      "\n",
      "A value is trying to be set on a copy of a slice from a DataFrame.\n",
      "Try using .loc[row_indexer,col_indexer] = value instead\n",
      "\n",
      "See the caveats in the documentation: https://pandas.pydata.org/pandas-docs/stable/user_guide/indexing.html#returning-a-view-versus-a-copy\n",
      "\n"
     ]
    }
   ],
   "source": [
    "current_year = 2025\n",
    "df['Age_of_car'] = current_year - df['Year']\n",
    "\n",
    "df['Car_depreciation'] = (df['Present_Price'] - df['Selling_Price']).round(3)\n"
   ]
  },
  {
   "cell_type": "code",
   "execution_count": 93,
   "metadata": {},
   "outputs": [
    {
     "name": "stderr",
     "output_type": "stream",
     "text": [
      "/var/folders/3f/x14h836923j7lv3kqcc_d9gc0000gn/T/ipykernel_19007/1878336772.py:1: SettingWithCopyWarning:\n",
      "\n",
      "\n",
      "A value is trying to be set on a copy of a slice from a DataFrame\n",
      "\n",
      "See the caveats in the documentation: https://pandas.pydata.org/pandas-docs/stable/user_guide/indexing.html#returning-a-view-versus-a-copy\n",
      "\n"
     ]
    }
   ],
   "source": [
    "df.drop(columns=['Year','Present_Price'], inplace=True)"
   ]
  },
  {
   "cell_type": "code",
   "execution_count": 94,
   "metadata": {},
   "outputs": [
    {
     "data": {
      "image/png": "[encoded data removed]",
      "text/plain": [
       "<Figure size 1000x800 with 2 Axes>"
      ]
     },
     "metadata": {},
     "output_type": "display_data"
    }
   ],
   "source": [
    "numerical_features = df.select_dtypes(include=[\"number\"])\n",
    "correlation_matrix = numerical_features.corr()\n",
    "plt.figure(figsize=(10, 8))\n",
    "sns.heatmap(correlation_matrix, annot=True, fmt='.2f')\n",
    "plt.title(\"Correlation Matrix\")\n",
    "plt.show()"
   ]
  },
  {
   "cell_type": "markdown",
   "metadata": {},
   "source": [
    "Создание нового признака Car_depreciation помогло понизить значение корреляции по отношению к таргету относительно значения Present_Price к таргету. При этом признак содержит в себе информацию о Present_Price"
   ]
  },
  {
   "cell_type": "code",
   "execution_count": 60,
   "metadata": {},
   "outputs": [
    {
     "data": {
      "text/html": [
       "<div>\n",
       "<style scoped>\n",
       "    .dataframe tbody tr th:only-of-type {\n",
       "        vertical-align: middle;\n",
       "    }\n",
       "\n",
       "    .dataframe tbody tr th {\n",
       "        vertical-align: top;\n",
       "    }\n",
       "\n",
       "    .dataframe thead th {\n",
       "        text-align: right;\n",
       "    }\n",
       "</style>\n",
       "<table border=\"1\" class=\"dataframe\">\n",
       "  <thead>\n",
       "    <tr style=\"text-align: right;\">\n",
       "      <th></th>\n",
       "      <th>Car_Name</th>\n",
       "      <th>Selling_Price</th>\n",
       "      <th>Driven_kms</th>\n",
       "      <th>Fuel_Type</th>\n",
       "      <th>Selling_type</th>\n",
       "      <th>Transmission</th>\n",
       "      <th>Owner</th>\n",
       "      <th>Age_of_car</th>\n",
       "      <th>Car_depreciation</th>\n",
       "    </tr>\n",
       "  </thead>\n",
       "  <tbody>\n",
       "    <tr>\n",
       "      <th>0</th>\n",
       "      <td>ritz</td>\n",
       "      <td>1.208960</td>\n",
       "      <td>27000</td>\n",
       "      <td>Petrol</td>\n",
       "      <td>Dealer</td>\n",
       "      <td>Manual</td>\n",
       "      <td>0</td>\n",
       "      <td>11</td>\n",
       "      <td>4.381</td>\n",
       "    </tr>\n",
       "    <tr>\n",
       "      <th>1</th>\n",
       "      <td>sx4</td>\n",
       "      <td>1.558145</td>\n",
       "      <td>43000</td>\n",
       "      <td>Diesel</td>\n",
       "      <td>Dealer</td>\n",
       "      <td>Manual</td>\n",
       "      <td>0</td>\n",
       "      <td>12</td>\n",
       "      <td>7.982</td>\n",
       "    </tr>\n",
       "    <tr>\n",
       "      <th>2</th>\n",
       "      <td>ciaz</td>\n",
       "      <td>1.981001</td>\n",
       "      <td>6900</td>\n",
       "      <td>Petrol</td>\n",
       "      <td>Dealer</td>\n",
       "      <td>Manual</td>\n",
       "      <td>0</td>\n",
       "      <td>8</td>\n",
       "      <td>7.869</td>\n",
       "    </tr>\n",
       "    <tr>\n",
       "      <th>3</th>\n",
       "      <td>wagon r</td>\n",
       "      <td>1.047319</td>\n",
       "      <td>5200</td>\n",
       "      <td>Petrol</td>\n",
       "      <td>Dealer</td>\n",
       "      <td>Manual</td>\n",
       "      <td>0</td>\n",
       "      <td>14</td>\n",
       "      <td>3.103</td>\n",
       "    </tr>\n",
       "    <tr>\n",
       "      <th>4</th>\n",
       "      <td>swift</td>\n",
       "      <td>1.526056</td>\n",
       "      <td>42450</td>\n",
       "      <td>Diesel</td>\n",
       "      <td>Dealer</td>\n",
       "      <td>Manual</td>\n",
       "      <td>0</td>\n",
       "      <td>11</td>\n",
       "      <td>5.344</td>\n",
       "    </tr>\n",
       "    <tr>\n",
       "      <th>...</th>\n",
       "      <td>...</td>\n",
       "      <td>...</td>\n",
       "      <td>...</td>\n",
       "      <td>...</td>\n",
       "      <td>...</td>\n",
       "      <td>...</td>\n",
       "      <td>...</td>\n",
       "      <td>...</td>\n",
       "      <td>...</td>\n",
       "    </tr>\n",
       "    <tr>\n",
       "      <th>296</th>\n",
       "      <td>city</td>\n",
       "      <td>2.251292</td>\n",
       "      <td>33988</td>\n",
       "      <td>Diesel</td>\n",
       "      <td>Dealer</td>\n",
       "      <td>Manual</td>\n",
       "      <td>0</td>\n",
       "      <td>9</td>\n",
       "      <td>9.349</td>\n",
       "    </tr>\n",
       "    <tr>\n",
       "      <th>297</th>\n",
       "      <td>brio</td>\n",
       "      <td>1.386294</td>\n",
       "      <td>60000</td>\n",
       "      <td>Petrol</td>\n",
       "      <td>Dealer</td>\n",
       "      <td>Manual</td>\n",
       "      <td>0</td>\n",
       "      <td>10</td>\n",
       "      <td>4.514</td>\n",
       "    </tr>\n",
       "    <tr>\n",
       "      <th>298</th>\n",
       "      <td>city</td>\n",
       "      <td>1.208960</td>\n",
       "      <td>87934</td>\n",
       "      <td>Petrol</td>\n",
       "      <td>Dealer</td>\n",
       "      <td>Manual</td>\n",
       "      <td>0</td>\n",
       "      <td>16</td>\n",
       "      <td>9.791</td>\n",
       "    </tr>\n",
       "    <tr>\n",
       "      <th>299</th>\n",
       "      <td>city</td>\n",
       "      <td>2.442347</td>\n",
       "      <td>9000</td>\n",
       "      <td>Diesel</td>\n",
       "      <td>Dealer</td>\n",
       "      <td>Manual</td>\n",
       "      <td>0</td>\n",
       "      <td>8</td>\n",
       "      <td>10.058</td>\n",
       "    </tr>\n",
       "    <tr>\n",
       "      <th>300</th>\n",
       "      <td>brio</td>\n",
       "      <td>1.667707</td>\n",
       "      <td>5464</td>\n",
       "      <td>Petrol</td>\n",
       "      <td>Dealer</td>\n",
       "      <td>Manual</td>\n",
       "      <td>0</td>\n",
       "      <td>9</td>\n",
       "      <td>4.232</td>\n",
       "    </tr>\n",
       "  </tbody>\n",
       "</table>\n",
       "<p>299 rows × 9 columns</p>\n",
       "</div>"
      ],
      "text/plain": [
       "    Car_Name  Selling_Price  Driven_kms Fuel_Type Selling_type Transmission  \\\n",
       "0       ritz       1.208960       27000    Petrol       Dealer       Manual   \n",
       "1        sx4       1.558145       43000    Diesel       Dealer       Manual   \n",
       "2       ciaz       1.981001        6900    Petrol       Dealer       Manual   \n",
       "3    wagon r       1.047319        5200    Petrol       Dealer       Manual   \n",
       "4      swift       1.526056       42450    Diesel       Dealer       Manual   \n",
       "..       ...            ...         ...       ...          ...          ...   \n",
       "296     city       2.251292       33988    Diesel       Dealer       Manual   \n",
       "297     brio       1.386294       60000    Petrol       Dealer       Manual   \n",
       "298     city       1.208960       87934    Petrol       Dealer       Manual   \n",
       "299     city       2.442347        9000    Diesel       Dealer       Manual   \n",
       "300     brio       1.667707        5464    Petrol       Dealer       Manual   \n",
       "\n",
       "     Owner  Age_of_car  Car_depreciation  \n",
       "0        0          11             4.381  \n",
       "1        0          12             7.982  \n",
       "2        0           8             7.869  \n",
       "3        0          14             3.103  \n",
       "4        0          11             5.344  \n",
       "..     ...         ...               ...  \n",
       "296      0           9             9.349  \n",
       "297      0          10             4.514  \n",
       "298      0          16             9.791  \n",
       "299      0           8            10.058  \n",
       "300      0           9             4.232  \n",
       "\n",
       "[299 rows x 9 columns]"
      ]
     },
     "execution_count": 60,
     "metadata": {},
     "output_type": "execute_result"
    }
   ],
   "source": [
    "df"
   ]
  },
  {
   "cell_type": "code",
   "execution_count": null,
   "metadata": {},
   "outputs": [],
   "source": []
  }
 ],
 "metadata": {
  "kernelspec": {
   "display_name": ".venv_lab_iis",
   "language": "python",
   "name": "python3"
  },
  "language_info": {
   "codemirror_mode": {
    "name": "ipython",
    "version": 3
   },
   "file_extension": ".py",
   "mimetype": "text/x-python",
   "name": "python",
   "nbconvert_exporter": "python",
   "pygments_lexer": "ipython3",
   "version": "3.9.6"
  }
 },
 "nbformat": 4,
 "nbformat_minor": 2
}
